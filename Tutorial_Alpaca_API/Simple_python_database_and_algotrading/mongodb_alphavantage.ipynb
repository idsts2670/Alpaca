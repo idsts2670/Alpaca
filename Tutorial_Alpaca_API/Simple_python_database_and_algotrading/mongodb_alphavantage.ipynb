{
 "cells": [
  {
   "cell_type": "code",
   "execution_count": 13,
   "metadata": {},
   "outputs": [
    {
     "name": "stderr",
     "output_type": "stream",
     "text": [
      "Library created, but couldn't enable sharding: no such command: 'enablesharding'. This is OK if you're not 'admin'\n"
     ]
    }
   ],
   "source": [
    "from arctic import Arctic\n",
    "from alpha_vantage.timeseries import TimeSeries\n",
    "import os\n",
    "\n",
    "# Connect to Local MONGODB\n",
    "store = Arctic('localhost')\n",
    "\n",
    "# Create the library - defaults to VersionStore\n",
    "store.initialize_library('HISTORICAL_DATA')\n",
    "\n",
    "# Access the library\n",
    "library = store['HISTORICAL_DATA']\n",
    "\n",
    "key = os.path.expandvars(\"$ALPHA_VANTAGE_HIGHER_KEY\")\n",
    "ts = TimeSeries(key, output_format='pandas')\n",
    "\n",
    "aapl_data, meta_data = ts.get_daily(symbol='AAPL', outputsize='full')\n",
    "meta_data_aapl = {'Source' : \"Alpha Vantage\"}\n",
    "\n",
    "\n",
    "# Store the data in the library\n",
    "library.write('AAPL', aapl_data, metadata=meta_data_aapl)\n",
    "\n",
    "# # Reading the data\n",
    "item = library.read('AAPL')\n",
    "aapl = item.data\n",
    "metadata = item.metadata\n",
    "\n",
    "aapl_data, meta_data = ts.get_daily(symbol='AAPL')"
   ]
  },
  {
   "cell_type": "code",
   "execution_count": 15,
   "metadata": {},
   "outputs": [
    {
     "data": {
      "text/html": [
       "<div>\n",
       "<style scoped>\n",
       "    .dataframe tbody tr th:only-of-type {\n",
       "        vertical-align: middle;\n",
       "    }\n",
       "\n",
       "    .dataframe tbody tr th {\n",
       "        vertical-align: top;\n",
       "    }\n",
       "\n",
       "    .dataframe thead th {\n",
       "        text-align: right;\n",
       "    }\n",
       "</style>\n",
       "<table border=\"1\" class=\"dataframe\">\n",
       "  <thead>\n",
       "    <tr style=\"text-align: right;\">\n",
       "      <th></th>\n",
       "      <th>1. open</th>\n",
       "      <th>2. high</th>\n",
       "      <th>3. low</th>\n",
       "      <th>4. close</th>\n",
       "      <th>5. volume</th>\n",
       "    </tr>\n",
       "    <tr>\n",
       "      <th>date</th>\n",
       "      <th></th>\n",
       "      <th></th>\n",
       "      <th></th>\n",
       "      <th></th>\n",
       "      <th></th>\n",
       "    </tr>\n",
       "  </thead>\n",
       "  <tbody>\n",
       "    <tr>\n",
       "      <th>1999-08-31</th>\n",
       "      <td>62.594</td>\n",
       "      <td>65.8750</td>\n",
       "      <td>62.063</td>\n",
       "      <td>65.250</td>\n",
       "      <td>158636800.0</td>\n",
       "    </tr>\n",
       "    <tr>\n",
       "      <th>1999-09-01</th>\n",
       "      <td>67.000</td>\n",
       "      <td>68.8130</td>\n",
       "      <td>66.000</td>\n",
       "      <td>68.625</td>\n",
       "      <td>197156400.0</td>\n",
       "    </tr>\n",
       "    <tr>\n",
       "      <th>1999-09-02</th>\n",
       "      <td>67.625</td>\n",
       "      <td>71.4379</td>\n",
       "      <td>66.875</td>\n",
       "      <td>70.563</td>\n",
       "      <td>223787200.0</td>\n",
       "    </tr>\n",
       "  </tbody>\n",
       "</table>\n",
       "</div>"
      ],
      "text/plain": [
       "            1. open  2. high  3. low  4. close    5. volume\n",
       "date                                                       \n",
       "1999-08-31   62.594  65.8750  62.063    65.250  158636800.0\n",
       "1999-09-01   67.000  68.8130  66.000    68.625  197156400.0\n",
       "1999-09-02   67.625  71.4379  66.875    70.563  223787200.0"
      ]
     },
     "execution_count": 15,
     "metadata": {},
     "output_type": "execute_result"
    }
   ],
   "source": [
    "from arctic import Arctic\n",
    "import os\n",
    "store = Arctic('localhost')\n",
    "library = store['HISTORICAL_DATA']\n",
    "item = library.read('AAPL')\n",
    "item.data.head(3)"
   ]
  }
 ],
 "metadata": {
  "kernelspec": {
   "display_name": "Python 3",
   "language": "python",
   "name": "python3"
  },
  "language_info": {
   "codemirror_mode": {
    "name": "ipython",
    "version": 3
   },
   "file_extension": ".py",
   "mimetype": "text/x-python",
   "name": "python",
   "nbconvert_exporter": "python",
   "pygments_lexer": "ipython3",
   "version": "3.7.3"
  }
 },
 "nbformat": 4,
 "nbformat_minor": 2
}
