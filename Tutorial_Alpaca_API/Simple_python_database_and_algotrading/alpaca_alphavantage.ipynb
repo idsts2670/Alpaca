{
 "cells": [
  {
   "cell_type": "code",
   "execution_count": 33,
   "metadata": {},
   "outputs": [
    {
     "name": "stdout",
     "output_type": "stream",
     "text": [
      "205.0392\n"
     ]
    }
   ],
   "source": [
    "import alpaca_trade_api as tradeapi\n",
    "import os\n",
    "from alpha_vantage.techindicators import TechIndicators\n",
    "import time\n",
    "\n",
    "# initiate keys\n",
    "API_KEY = os.path.expandvars('$ALPACA_PAPER_KEY')\n",
    "API_SECRET = os.path.expandvars('$ALPACA_SECRET_PAPER_KEY')\n",
    "ALPCA_API_BASE_URL = \"https://paper-api.alpaca.markets\"\n",
    "ALPHA_VANTAGE_KEY = os.path.expandvars(\"$ALPHA_VANTAGE_HIGHER_KEY\")\n",
    "\n",
    "# connect to alpaca\n",
    "alpaca = tradeapi.REST(API_KEY, API_SECRET, ALPCA_API_BASE_URL, api_version='v2') # or use ENV Vars\n",
    "account = alpaca.get_account()\n",
    "\n",
    "# initiate tech indicator\n",
    "ti = TechIndicators(key=ALPHA_VANTAGE_KEY, output_format='pandas')\n",
    "\n",
    "# buy apple when simple moving average is more than previously\n",
    "# sell when it's less than 0.1\n",
    "current_sma = ti.get_sma('AAPL', interval='1min')[0].tail(1)['SMA'][0]\n",
    "\n",
    "print(current_sma)\n",
    "# while(True):\n",
    "#     print(current_sma)\n",
    "#     time.sleep(60)\n",
    "#     next_sma = ti.get_sma('AAPL', interval='1min')[0].tail(1)['SMA'][0]\n",
    "#     if next_sma - current_sma > 0.1:\n",
    "#         alpaca.submit_order('AAPL', 1, 'buy', 'market', 'day')\n",
    "#     elif next_sma - current_sma < -0.1:\n",
    "#         alpaca.submit_order('AAPL', 1, 'sell', 'market', 'day')"
   ]
  },
  {
   "cell_type": "code",
   "execution_count": null,
   "metadata": {},
   "outputs": [],
   "source": []
  }
 ],
 "metadata": {
  "kernelspec": {
   "display_name": "Python 3",
   "language": "python",
   "name": "python3"
  },
  "language_info": {
   "codemirror_mode": {
    "name": "ipython",
    "version": 3
   },
   "file_extension": ".py",
   "mimetype": "text/x-python",
   "name": "python",
   "nbconvert_exporter": "python",
   "pygments_lexer": "ipython3",
   "version": "3.7.3"
  }
 },
 "nbformat": 4,
 "nbformat_minor": 2
}
