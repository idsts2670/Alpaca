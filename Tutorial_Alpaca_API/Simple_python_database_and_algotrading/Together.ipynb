{
 "cells": [
  {
   "cell_type": "code",
   "execution_count": 27,
   "metadata": {},
   "outputs": [],
   "source": [
    "# STEP ONE set up script\n",
    "# imports\n",
    "import os\n",
    "import time\n",
    "\n",
    "from arctic import Arctic\n",
    "from alpha_vantage.timeseries import TimeSeries\n",
    "from alpha_vantage.techindicators import TechIndicators\n",
    "import alpaca_trade_api as tradeapi\n",
    "\n",
    "# keys\n",
    "API_KEY = os.path.expandvars('$ALPACA_PAPER_KEY')\n",
    "API_SECRET = os.path.expandvars('$ALPACA_SECRET_PAPER_KEY')\n",
    "ALPCA_API_BASE_URL = \"https://paper-api.alpaca.markets\"\n",
    "ALPHA_VANTAGE_KEY = os.path.expandvars(\"$ALPHA_VANTAGE_HIGHER_KEY\")\n",
    "\n",
    "# alpaca, alpha_vantage, arctic\n",
    "alpaca = tradeapi.REST(API_KEY, API_SECRET, ALPCA_API_BASE_URL, api_version='v2')\n",
    "ts = TimeSeries(ALPHA_VANTAGE_KEY, output_format='pandas')\n",
    "ti = TechIndicators(key=ALPHA_VANTAGE_KEY, output_format='pandas')\n",
    "store = Arctic('localhost')\n",
    "library = store['HISTORICAL_DATA']\n",
    "simple_moving_lib = store['SMA']\n",
    "\n",
    "# STEP TWO\n",
    "# Download and Update data\n",
    "aapl_data, meta_data = ts.get_daily(symbol='AAPL', outputsize='full')\n",
    "# arctic is versioned, so we can just overwrite the data\n",
    "library.write('AAPL', aapl_data)\n",
    "\n",
    "aapl_sma, meta_sma = ti.get_sma(symbol='AAPL', interval='daily')\n",
    "simple_moving_lib.write('AAPL', aapl_sma)\n",
    "\n",
    "\n",
    "# STEP THREE / FOUR\n",
    "# Run models & Trade\n",
    "# SMA vs yesterday SMA\n",
    "if aapl_sma['SMA'].tail(1)[0] - aapl_sma['SMA'].tail(2)[0] > 0.2:\n",
    "    alpaca.submit_order('AAPL', 1, 'buy', 'market', 'day')\n"
   ]
  }
 ],
 "metadata": {
  "kernelspec": {
   "display_name": "Python 3",
   "language": "python",
   "name": "python3"
  },
  "language_info": {
   "codemirror_mode": {
    "name": "ipython",
    "version": 3
   },
   "file_extension": ".py",
   "mimetype": "text/x-python",
   "name": "python",
   "nbconvert_exporter": "python",
   "pygments_lexer": "ipython3",
   "version": "3.7.3"
  }
 },
 "nbformat": 4,
 "nbformat_minor": 2
}
