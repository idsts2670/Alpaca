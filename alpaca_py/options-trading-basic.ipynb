{
 "cells": [
  {
   "cell_type": "markdown",
   "metadata": {},
   "source": [
    "# Alpaca-py options trading basic"
   ]
  },
  {
   "cell_type": "markdown",
   "metadata": {},
   "source": [
    "[![Open In Colab](https://colab.research.google.com/assets/colab-badge.svg)](https://colab.research.google.com/github/alpacahq/alpaca-py/blob/master/examples/options-trading-basic.ipynb)"
   ]
  },
  {
   "cell_type": "markdown",
   "metadata": {},
   "source": [
    "- This notebook shows how to use alpaca-py with options trading API endpoints\n",
    "- Please use ``paper account``. Please ``DO NOT`` use this notebook with live account. In this notebook, we place orders for options as an example."
   ]
  },
  {
   "cell_type": "code",
   "execution_count": null,
   "metadata": {},
   "outputs": [],
   "source": [
    "! python3 -m install alpaca-py\n",
    "! python3 -m pip install alpaca-py"
   ]
  },
  {
   "cell_type": "code",
   "execution_count": 1,
   "metadata": {},
   "outputs": [],
   "source": [
    "# Please change the following to your own PAPER api key and secret\n",
    "# You can get them from https://alpaca.markets/\n",
    "\n",
    "from dotenv import load_dotenv\n",
    "import os\n",
    "\n",
    "# keys is stored in config.env file\n",
    "# - Specify the path to the config.env file\n",
    "dotenv_path = os.path.join(os.getcwd(), \"config.env\")\n",
    "# Load environment variables from the specified .env file\n",
    "load_dotenv(dotenv_path)\n",
    "\n",
    "api_key = os.getenv(\"ALPACA_API_KEY_PAPER\")\n",
    "secret_key = os.getenv('ALPACA_API_SECRET_KEY_PAPER')\n",
    "base_url = os.getenv('ALPACA_BASE_URL')\n",
    "\n",
    "#### We use paper environment for this example ####\n",
    "paper = True # Please do not modify this. This example is for paper trading only.\n",
    "####\n",
    "\n",
    "# Below are the variables for development this documents\n",
    "# Please do not change these variables\n",
    "\n",
    "trade_api_url = None\n",
    "trade_api_wss = None\n",
    "data_api_url = None\n",
    "option_stream_data_wss = None"
   ]
  },
  {
   "cell_type": "code",
   "execution_count": 2,
   "metadata": {},
   "outputs": [],
   "source": [
    "import json\n",
    "from datetime import datetime, timedelta\n",
    "from zoneinfo import ZoneInfo\n",
    "\n",
    "import alpaca\n",
    "from alpaca.trading.client import TradingClient\n",
    "from alpaca.data.timeframe import TimeFrame, TimeFrameUnit\n",
    "from alpaca.data.historical.option import OptionHistoricalDataClient\n",
    "from alpaca.trading.stream import TradingStream\n",
    "from alpaca.data.live.option import OptionDataStream\n",
    "\n",
    "from alpaca.data.requests import (\n",
    "    OptionBarsRequest,\n",
    "    OptionTradesRequest,\n",
    "    OptionLatestQuoteRequest,\n",
    "    OptionLatestTradeRequest,\n",
    "    OptionSnapshotRequest,\n",
    "    OptionChainRequest    \n",
    ")\n",
    "from alpaca.trading.requests import (\n",
    "    GetOptionContractsRequest,\n",
    "    GetAssetsRequest,\n",
    "    MarketOrderRequest,\n",
    "    GetOrdersRequest,\n",
    "    ClosePositionRequest\n",
    ")\n",
    "from alpaca.trading.enums import (\n",
    "    AssetStatus,\n",
    "    ExerciseStyle,\n",
    "    OrderSide,\n",
    "    OrderType,\n",
    "    TimeInForce,\n",
    "    QueryOrderStatus \n",
    ")\n",
    "from alpaca.common.exceptions import APIError"
   ]
  },
  {
   "cell_type": "code",
   "execution_count": 3,
   "metadata": {},
   "outputs": [],
   "source": [
    "# to run async code in jupyter notebook\n",
    "import nest_asyncio\n",
    "nest_asyncio.apply()"
   ]
  },
  {
   "cell_type": "code",
   "execution_count": 4,
   "metadata": {},
   "outputs": [
    {
     "data": {
      "text/plain": [
       "'0.30.1'"
      ]
     },
     "execution_count": 4,
     "metadata": {},
     "output_type": "execute_result"
    }
   ],
   "source": [
    "# check version of alpaca-py\n",
    "alpaca.__version__"
   ]
  },
  {
   "cell_type": "markdown",
   "metadata": {},
   "source": [
    "# Trading Client"
   ]
  },
  {
   "cell_type": "code",
   "execution_count": 5,
   "metadata": {},
   "outputs": [],
   "source": [
    "# setup clients\n",
    "# - TradingClient is a class. You can instantiate it given parameters such as API key and secret key.\n",
    "trade_client = TradingClient(api_key=api_key, secret_key=secret_key, paper=paper, url_override=trade_api_url)"
   ]
  },
  {
   "cell_type": "code",
   "execution_count": 6,
   "metadata": {},
   "outputs": [
    {
     "data": {
      "text/plain": [
       "{   'account_blocked': False,\n",
       "    'account_number': 'PA3P9DF5CZ5G',\n",
       "    'accrued_fees': '0',\n",
       "    'buying_power': '199389.99',\n",
       "    'cash': '99406.39',\n",
       "    'created_at': datetime.datetime(2024, 5, 15, 18, 59, 39, 40242, tzinfo=TzInfo(UTC)),\n",
       "    'crypto_status': <AccountStatus.ACTIVE: 'ACTIVE'>,\n",
       "    'currency': 'USD',\n",
       "    'daytrade_count': 2,\n",
       "    'daytrading_buying_power': '0',\n",
       "    'equity': '99993.6',\n",
       "    'id': UUID('8124b3d1-e06e-4212-8930-0f9b5f69c050'),\n",
       "    'initial_margin': '298.6',\n",
       "    'last_equity': '99992.64',\n",
       "    'last_maintenance_margin': '182.88',\n",
       "    'long_market_value': '587.21',\n",
       "    'maintenance_margin': '183.16',\n",
       "    'multiplier': '2',\n",
       "    'non_marginable_buying_power': '99406.39',\n",
       "    'options_approved_level': 2,\n",
       "    'options_buying_power': '99810.43',\n",
       "    'options_trading_level': 2,\n",
       "    'pattern_day_trader': False,\n",
       "    'pending_transfer_in': None,\n",
       "    'pending_transfer_out': None,\n",
       "    'portfolio_value': '99993.6',\n",
       "    'regt_buying_power': '199389.99',\n",
       "    'short_market_value': '0',\n",
       "    'shorting_enabled': True,\n",
       "    'sma': '100005.51',\n",
       "    'status': <AccountStatus.ACTIVE: 'ACTIVE'>,\n",
       "    'trade_suspended_by_user': False,\n",
       "    'trading_blocked': False,\n",
       "    'transfers_blocked': False}"
      ]
     },
     "execution_count": 6,
     "metadata": {},
     "output_type": "execute_result"
    }
   ],
   "source": [
    "# check trading account\n",
    "# There are trhee new columns in the account object:\n",
    "# - options_buying_power\n",
    "# - options_approved_level\n",
    "# - options_trading_level\n",
    "acct = trade_client.get_account()\n",
    "acct"
   ]
  },
  {
   "cell_type": "code",
   "execution_count": 7,
   "metadata": {},
   "outputs": [
    {
     "data": {
      "text/plain": [
       "{   'dtbp_check': <DTBPCheck.ENTRY: 'entry'>,\n",
       "    'fractional_trading': True,\n",
       "    'max_margin_multiplier': '4',\n",
       "    'max_options_trading_level': None,\n",
       "    'no_shorting': False,\n",
       "    'pdt_check': <PDTCheck.ENTRY: 'entry'>,\n",
       "    'ptp_no_exception_entry': False,\n",
       "    'suspend_trade': False,\n",
       "    'trade_confirm_email': <TradeConfirmationEmail.ALL: 'all'>}"
      ]
     },
     "execution_count": 7,
     "metadata": {},
     "output_type": "execute_result"
    }
   ],
   "source": [
    "# check account configuration\n",
    "# - we have new field `max_options_trading_level`\n",
    "acct_config = trade_client.get_account_configurations()\n",
    "acct_config"
   ]
  },
  {
   "cell_type": "code",
   "execution_count": 8,
   "metadata": {},
   "outputs": [
    {
     "data": {
      "text/plain": [
       "[{   'asset_class': <AssetClass.US_EQUITY: 'us_equity'>,\n",
       "     'attributes': ['has_options'],\n",
       "     'easy_to_borrow': False,\n",
       "     'exchange': <AssetExchange.NASDAQ: 'NASDAQ'>,\n",
       "     'fractionable': False,\n",
       "     'id': UUID('cc492b87-aff1-442a-99bb-e4e638dd6e98'),\n",
       "     'maintenance_margin_requirement': 100.0,\n",
       "     'marginable': False,\n",
       "     'min_order_size': None,\n",
       "     'min_trade_increment': None,\n",
       "     'name': 'U Power Limited Class A Ordinary Shares',\n",
       "     'price_increment': None,\n",
       "     'shortable': False,\n",
       "     'status': <AssetStatus.ACTIVE: 'active'>,\n",
       "     'symbol': 'UCAR',\n",
       "     'tradable': False},\n",
       " {   'asset_class': <AssetClass.US_EQUITY: 'us_equity'>,\n",
       "     'attributes': ['has_options'],\n",
       "     'easy_to_borrow': False,\n",
       "     'exchange': <AssetExchange.OTC: 'OTC'>,\n",
       "     'fractionable': False,\n",
       "     'id': UUID('34d64d14-411d-4b96-a508-7428bbd6c529'),\n",
       "     'maintenance_margin_requirement': 100.0,\n",
       "     'marginable': False,\n",
       "     'min_order_size': None,\n",
       "     'min_trade_increment': None,\n",
       "     'name': 'AIRSPAN NETWORKS HLDGS INC COM',\n",
       "     'price_increment': None,\n",
       "     'shortable': False,\n",
       "     'status': <AssetStatus.ACTIVE: 'active'>,\n",
       "     'symbol': 'MIMOQ',\n",
       "     'tradable': False}]"
      ]
     },
     "execution_count": 8,
     "metadata": {},
     "output_type": "execute_result"
    }
   ],
   "source": [
    "# get list of assets which are options enabled\n",
    "# - we can filter assets by `options_enabled` attribute\n",
    "# - asset object has `options_enabled` attribute if it is options enabled\n",
    "req = GetAssetsRequest(\n",
    "  attributes = \"options_enabled\"  \n",
    ")\n",
    "assets = trade_client.get_all_assets(req)\n",
    "assets[:2]"
   ]
  },
  {
   "cell_type": "code",
   "execution_count": 9,
   "metadata": {},
   "outputs": [
    {
     "data": {
      "text/plain": [
       "{   'next_page_token': 'Mg==',\n",
       "    'option_contracts': [   {   'close_price': '128.55',\n",
       "                                'close_price_date': datetime.date(2024, 9, 24),\n",
       "                                'expiration_date': datetime.date(2024, 9, 27),\n",
       "                                'id': '92fbf37f-8a59-47b5-bc65-58a9a01f1c71',\n",
       "                                'name': 'AAPL Sep 27 2024 100 Call',\n",
       "                                'open_interest': '6',\n",
       "                                'open_interest_date': datetime.date(2024, 9, 24),\n",
       "                                'root_symbol': 'AAPL',\n",
       "                                'size': '100',\n",
       "                                'status': <AssetStatus.ACTIVE: 'active'>,\n",
       "                                'strike_price': 100.0,\n",
       "                                'style': <ExerciseStyle.AMERICAN: 'american'>,\n",
       "                                'symbol': 'AAPL240927C00100000',\n",
       "                                'tradable': True,\n",
       "                                'type': <ContractType.CALL: 'call'>,\n",
       "                                'underlying_asset_id': UUID('b0b6dd9d-8b9b-48a9-ba46-b9d54906e415'),\n",
       "                                'underlying_symbol': 'AAPL'},\n",
       "                            {   'close_price': '117.6',\n",
       "                                'close_price_date': datetime.date(2024, 9, 3),\n",
       "                                'expiration_date': datetime.date(2024, 9, 27),\n",
       "                                'id': 'ae7e9dd6-1dca-4923-b358-ac2a4a5164e2',\n",
       "                                'name': 'AAPL Sep 27 2024 105 Call',\n",
       "                                'open_interest': '1',\n",
       "                                'open_interest_date': datetime.date(2024, 9, 24),\n",
       "                                'root_symbol': 'AAPL',\n",
       "                                'size': '100',\n",
       "                                'status': <AssetStatus.ACTIVE: 'active'>,\n",
       "                                'strike_price': 105.0,\n",
       "                                'style': <ExerciseStyle.AMERICAN: 'american'>,\n",
       "                                'symbol': 'AAPL240927C00105000',\n",
       "                                'tradable': True,\n",
       "                                'type': <ContractType.CALL: 'call'>,\n",
       "                                'underlying_asset_id': UUID('b0b6dd9d-8b9b-48a9-ba46-b9d54906e415'),\n",
       "                                'underlying_symbol': 'AAPL'}]}"
      ]
     },
     "execution_count": 9,
     "metadata": {},
     "output_type": "execute_result"
    }
   ],
   "source": [
    "# get list of options contracts for the given underlying symbol (e.g. SPY,AAPL)\n",
    "# - get_option_contracts() is a new method to get list of options contracts\n",
    "# - in this example, we get 2 options contracts for SPY,AAPL\n",
    "# - you can continue to fetch options contracts by specifying page_token from next_page_token of response\n",
    "underlying_symbols = [\"SPY\", \"AAPL\"]\n",
    "# - GetOptionContractsRequest is a request object (request model) to get list of options contracts\n",
    "req = GetOptionContractsRequest(\n",
    "    underlying_symbols = underlying_symbols,               # specify underlying symbols\n",
    "    status = AssetStatus.ACTIVE,                           # specify asset status: active (default)\n",
    "    expiration_date = None,                                # specify expiration date (specified date + 1 day range)\n",
    "    expiration_date_gte = None,                            # we can pass date object\n",
    "    expiration_date_lte = None,                            # or string (YYYY-MM-DD)\n",
    "    root_symbol = None,                                    # specify root symbol\n",
    "    type = None,                                           # specify option type (ContractType.CALL or ContractType.PUT)\n",
    "    style = None,                                          # specify option style (ContractStyle.AMERICAN or ContractStyle.EUROPEAN)\n",
    "    strike_price_gte = None,                               # specify strike price range\n",
    "    strike_price_lte = None,                               # specify strike price range\n",
    "    limit = 2,                                             # specify limit\n",
    "    page_token = None,                                     # specify page token\n",
    ")\n",
    "res = trade_client.get_option_contracts(req)\n",
    "res"
   ]
  },
  {
   "cell_type": "code",
   "execution_count": 10,
   "metadata": {},
   "outputs": [
    {
     "data": {
      "text/plain": [
       "{   'next_page_token': 'NA==',\n",
       "    'option_contracts': [   {   'close_price': '114.92',\n",
       "                                'close_price_date': datetime.date(2024, 9, 25),\n",
       "                                'expiration_date': datetime.date(2024, 9, 27),\n",
       "                                'id': 'ef897b31-9490-4eff-883f-90eecf0aa88f',\n",
       "                                'name': 'AAPL Sep 27 2024 110 Call',\n",
       "                                'open_interest': '11',\n",
       "                                'open_interest_date': datetime.date(2024, 9, 24),\n",
       "                                'root_symbol': 'AAPL',\n",
       "                                'size': '100',\n",
       "                                'status': <AssetStatus.ACTIVE: 'active'>,\n",
       "                                'strike_price': 110.0,\n",
       "                                'style': <ExerciseStyle.AMERICAN: 'american'>,\n",
       "                                'symbol': 'AAPL240927C00110000',\n",
       "                                'tradable': True,\n",
       "                                'type': <ContractType.CALL: 'call'>,\n",
       "                                'underlying_asset_id': UUID('b0b6dd9d-8b9b-48a9-ba46-b9d54906e415'),\n",
       "                                'underlying_symbol': 'AAPL'},\n",
       "                            {   'close_price': None,\n",
       "                                'close_price_date': None,\n",
       "                                'expiration_date': datetime.date(2024, 9, 27),\n",
       "                                'id': '2a489301-9369-4fdc-8da3-106e62d68774',\n",
       "                                'name': 'AAPL Sep 27 2024 115 Call',\n",
       "                                'open_interest': None,\n",
       "                                'open_interest_date': None,\n",
       "                                'root_symbol': 'AAPL',\n",
       "                                'size': '100',\n",
       "                                'status': <AssetStatus.ACTIVE: 'active'>,\n",
       "                                'strike_price': 115.0,\n",
       "                                'style': <ExerciseStyle.AMERICAN: 'american'>,\n",
       "                                'symbol': 'AAPL240927C00115000',\n",
       "                                'tradable': True,\n",
       "                                'type': <ContractType.CALL: 'call'>,\n",
       "                                'underlying_asset_id': UUID('b0b6dd9d-8b9b-48a9-ba46-b9d54906e415'),\n",
       "                                'underlying_symbol': 'AAPL'}]}"
      ]
     },
     "metadata": {},
     "output_type": "display_data"
    }
   ],
   "source": [
    "# continue to fetch option contracts if there is next_page_token in response\n",
    "if res.next_page_token is not None:\n",
    "    req = GetOptionContractsRequest(\n",
    "        underlying_symbols = underlying_symbols,               # specify underlying symbols\n",
    "        status = AssetStatus.ACTIVE,                           # specify asset status: active (default)\n",
    "        expiration_date = None,                                # specify expiration date (specified date + 1 day range)\n",
    "        expiration_date_gte = None,                            # we can pass date object\n",
    "        expiration_date_lte = None,                            # or string (YYYY-MM-DD)\n",
    "        root_symbol = None,                                    # specify root symbol\n",
    "        type = None,                                           # specify option type (ContractType.CALL or ContractType.PUT) Default is \"call\"\n",
    "        style = None,                                          # specify option style (ContractStyle.AMERICAN or ContractStyle.EUROPEAN)\n",
    "        strike_price_gte = None,                               # specify strike price range\n",
    "        strike_price_lte = None,                               # specify strike price range\n",
    "        limit = 2,                                             # specify limit\n",
    "        page_token = res.next_page_token,                      # specify page token\n",
    "    )\n",
    "    res = trade_client.get_option_contracts(req)\n",
    "    display(res)"
   ]
  },
  {
   "cell_type": "code",
   "execution_count": 11,
   "metadata": {},
   "outputs": [
    {
     "data": {
      "text/plain": [
       "{   'close_price': '114.92',\n",
       "    'close_price_date': datetime.date(2024, 9, 25),\n",
       "    'expiration_date': datetime.date(2024, 9, 27),\n",
       "    'id': 'ef897b31-9490-4eff-883f-90eecf0aa88f',\n",
       "    'name': 'AAPL Sep 27 2024 110 Call',\n",
       "    'open_interest': '11',\n",
       "    'open_interest_date': datetime.date(2024, 9, 24),\n",
       "    'root_symbol': 'AAPL',\n",
       "    'size': '100',\n",
       "    'status': <AssetStatus.ACTIVE: 'active'>,\n",
       "    'strike_price': 110.0,\n",
       "    'style': <ExerciseStyle.AMERICAN: 'american'>,\n",
       "    'symbol': 'AAPL240927C00110000',\n",
       "    'tradable': True,\n",
       "    'type': <ContractType.CALL: 'call'>,\n",
       "    'underlying_asset_id': UUID('b0b6dd9d-8b9b-48a9-ba46-b9d54906e415'),\n",
       "    'underlying_symbol': 'AAPL'}"
      ]
     },
     "execution_count": 11,
     "metadata": {},
     "output_type": "execute_result"
    }
   ],
   "source": [
    "# get options contract by symbol\n",
    "# - get_option_contract() is a new method to get options contract by symbol or id\n",
    "# - in this example, we get the first options contract from the previous response\n",
    "symbol = res.option_contracts[0].symbol\n",
    "contract = trade_client.get_option_contract(symbol)\n",
    "contract"
   ]
  },
  {
   "cell_type": "code",
   "execution_count": 12,
   "metadata": {},
   "outputs": [
    {
     "data": {
      "text/plain": [
       "{   'close_price': '114.92',\n",
       "    'close_price_date': datetime.date(2024, 9, 25),\n",
       "    'expiration_date': datetime.date(2024, 9, 27),\n",
       "    'id': 'ef897b31-9490-4eff-883f-90eecf0aa88f',\n",
       "    'name': 'AAPL Sep 27 2024 110 Call',\n",
       "    'open_interest': '11',\n",
       "    'open_interest_date': datetime.date(2024, 9, 24),\n",
       "    'root_symbol': 'AAPL',\n",
       "    'size': '100',\n",
       "    'status': <AssetStatus.ACTIVE: 'active'>,\n",
       "    'strike_price': 110.0,\n",
       "    'style': <ExerciseStyle.AMERICAN: 'american'>,\n",
       "    'symbol': 'AAPL240927C00110000',\n",
       "    'tradable': True,\n",
       "    'type': <ContractType.CALL: 'call'>,\n",
       "    'underlying_asset_id': UUID('b0b6dd9d-8b9b-48a9-ba46-b9d54906e415'),\n",
       "    'underlying_symbol': 'AAPL'}"
      ]
     },
     "execution_count": 12,
     "metadata": {},
     "output_type": "execute_result"
    }
   ],
   "source": [
    "# get options contract by id\n",
    "# - in this example, we get the first options contract from the previous response\n",
    "id = res.option_contracts[0].id\n",
    "contract = trade_client.get_option_contract(symbol_or_id=id)\n",
    "contract"
   ]
  },
  {
   "cell_type": "code",
   "execution_count": 13,
   "metadata": {},
   "outputs": [
    {
     "data": {
      "text/plain": [
       "[{   'close_price': '0.01',\n",
       "     'close_price_date': datetime.date(2024, 9, 20),\n",
       "     'expiration_date': datetime.date(2024, 9, 27),\n",
       "     'id': '2f657a03-15cf-44ac-ae28-dcb0f8e8ae2f',\n",
       "     'name': 'SPY Sep 27 2024 300 Put',\n",
       "     'open_interest': '120',\n",
       "     'open_interest_date': datetime.date(2024, 9, 24),\n",
       "     'root_symbol': 'SPY',\n",
       "     'size': '100',\n",
       "     'status': <AssetStatus.ACTIVE: 'active'>,\n",
       "     'strike_price': 300.0,\n",
       "     'style': <ExerciseStyle.AMERICAN: 'american'>,\n",
       "     'symbol': 'SPY240927P00300000',\n",
       "     'tradable': True,\n",
       "     'type': <ContractType.PUT: 'put'>,\n",
       "     'underlying_asset_id': UUID('b28f4066-5c6d-479b-a2af-85dc1a8f16fb'),\n",
       "     'underlying_symbol': 'SPY'},\n",
       " {   'close_price': '0.01',\n",
       "     'close_price_date': datetime.date(2024, 9, 17),\n",
       "     'expiration_date': datetime.date(2024, 9, 27),\n",
       "     'id': 'c651bab1-0360-4ba3-a686-a3b4252fcb48',\n",
       "     'name': 'SPY Sep 27 2024 305 Put',\n",
       "     'open_interest': '200',\n",
       "     'open_interest_date': datetime.date(2024, 9, 24),\n",
       "     'root_symbol': 'SPY',\n",
       "     'size': '100',\n",
       "     'status': <AssetStatus.ACTIVE: 'active'>,\n",
       "     'strike_price': 305.0,\n",
       "     'style': <ExerciseStyle.AMERICAN: 'american'>,\n",
       "     'symbol': 'SPY240927P00305000',\n",
       "     'tradable': True,\n",
       "     'type': <ContractType.PUT: 'put'>,\n",
       "     'underlying_asset_id': UUID('b28f4066-5c6d-479b-a2af-85dc1a8f16fb'),\n",
       "     'underlying_symbol': 'SPY'},\n",
       " {   'close_price': '0.01',\n",
       "     'close_price_date': datetime.date(2024, 9, 17),\n",
       "     'expiration_date': datetime.date(2024, 9, 27),\n",
       "     'id': 'e832f595-9892-4530-a7fe-80dff6da8792',\n",
       "     'name': 'SPY Sep 27 2024 310 Put',\n",
       "     'open_interest': '850',\n",
       "     'open_interest_date': datetime.date(2024, 9, 24),\n",
       "     'root_symbol': 'SPY',\n",
       "     'size': '100',\n",
       "     'status': <AssetStatus.ACTIVE: 'active'>,\n",
       "     'strike_price': 310.0,\n",
       "     'style': <ExerciseStyle.AMERICAN: 'american'>,\n",
       "     'symbol': 'SPY240927P00310000',\n",
       "     'tradable': True,\n",
       "     'type': <ContractType.PUT: 'put'>,\n",
       "     'underlying_asset_id': UUID('b28f4066-5c6d-479b-a2af-85dc1a8f16fb'),\n",
       "     'underlying_symbol': 'SPY'},\n",
       " {   'close_price': '0.01',\n",
       "     'close_price_date': datetime.date(2024, 9, 17),\n",
       "     'expiration_date': datetime.date(2024, 9, 27),\n",
       "     'id': '50ca9dd8-25a6-4c29-a497-fbe57d07111c',\n",
       "     'name': 'SPY Sep 27 2024 315 Put',\n",
       "     'open_interest': '700',\n",
       "     'open_interest_date': datetime.date(2024, 9, 24),\n",
       "     'root_symbol': 'SPY',\n",
       "     'size': '100',\n",
       "     'status': <AssetStatus.ACTIVE: 'active'>,\n",
       "     'strike_price': 315.0,\n",
       "     'style': <ExerciseStyle.AMERICAN: 'american'>,\n",
       "     'symbol': 'SPY240927P00315000',\n",
       "     'tradable': True,\n",
       "     'type': <ContractType.PUT: 'put'>,\n",
       "     'underlying_asset_id': UUID('b28f4066-5c6d-479b-a2af-85dc1a8f16fb'),\n",
       "     'underlying_symbol': 'SPY'},\n",
       " {   'close_price': '0.01',\n",
       "     'close_price_date': datetime.date(2024, 9, 18),\n",
       "     'expiration_date': datetime.date(2024, 9, 27),\n",
       "     'id': 'a4f27cd8-485b-420c-b8e0-35a04e06db37',\n",
       "     'name': 'SPY Sep 27 2024 320 Put',\n",
       "     'open_interest': '590',\n",
       "     'open_interest_date': datetime.date(2024, 9, 24),\n",
       "     'root_symbol': 'SPY',\n",
       "     'size': '100',\n",
       "     'status': <AssetStatus.ACTIVE: 'active'>,\n",
       "     'strike_price': 320.0,\n",
       "     'style': <ExerciseStyle.AMERICAN: 'american'>,\n",
       "     'symbol': 'SPY240927P00320000',\n",
       "     'tradable': True,\n",
       "     'type': <ContractType.PUT: 'put'>,\n",
       "     'underlying_asset_id': UUID('b28f4066-5c6d-479b-a2af-85dc1a8f16fb'),\n",
       "     'underlying_symbol': 'SPY'}]"
      ]
     },
     "execution_count": 13,
     "metadata": {},
     "output_type": "execute_result"
    }
   ],
   "source": [
    "# get put options contracts\n",
    "# - in this example, we get put options contracts for SPY = SPDR S&P 500 ETF\n",
    "underlying_symbols = [\"SPY\"]\n",
    "\n",
    "# specify expiration date range\n",
    "now = datetime.now(tz = ZoneInfo(\"America/New_York\"))\n",
    "day1 = now + timedelta(days = 1)\n",
    "day60 = now + timedelta(days = 60)\n",
    "\n",
    "req = GetOptionContractsRequest(\n",
    "    underlying_symbols = underlying_symbols,                     # specify underlying symbols\n",
    "    status = AssetStatus.ACTIVE,                                 # specify asset status: active (default)\n",
    "    expiration_date = None,                                      # specify expiration date (specified date + 1 day range)\n",
    "    expiration_date_gte = day1.date(),                           # we can pass date object\n",
    "    expiration_date_lte = day60.strftime(format = \"%Y-%m-%d\"),   # or string\n",
    "    root_symbol = None,                                          # specify root symbol\n",
    "    type = \"put\",                                                # specify option type: put\n",
    "    style = ExerciseStyle.AMERICAN,                              # specify option style: american\n",
    "    strike_price_gte = None,                                     # specify strike price range\n",
    "    strike_price_lte = None,                                     # specify strike price range\n",
    "    limit = 100,                                                 # specify limit\n",
    "    page_token = None,                                           # specify page\n",
    ")\n",
    "res = trade_client.get_option_contracts(req)\n",
    "res.option_contracts[:5]"
   ]
  },
  {
   "cell_type": "code",
   "execution_count": 14,
   "metadata": {},
   "outputs": [
    {
     "data": {
      "text/plain": [
       "{   'close_price': '0.01',\n",
       "    'close_price_date': datetime.date(2024, 9, 25),\n",
       "    'expiration_date': datetime.date(2024, 9, 27),\n",
       "    'id': '50d52dc3-87ac-475b-87b0-1684827f8a1e',\n",
       "    'name': 'SPY Sep 27 2024 420 Put',\n",
       "    'open_interest': '202173',\n",
       "    'open_interest_date': datetime.date(2024, 9, 24),\n",
       "    'root_symbol': 'SPY',\n",
       "    'size': '100',\n",
       "    'status': <AssetStatus.ACTIVE: 'active'>,\n",
       "    'strike_price': 420.0,\n",
       "    'style': <ExerciseStyle.AMERICAN: 'american'>,\n",
       "    'symbol': 'SPY240927P00420000',\n",
       "    'tradable': True,\n",
       "    'type': <ContractType.PUT: 'put'>,\n",
       "    'underlying_asset_id': UUID('b28f4066-5c6d-479b-a2af-85dc1a8f16fb'),\n",
       "    'underlying_symbol': 'SPY'}"
      ]
     },
     "execution_count": 14,
     "metadata": {},
     "output_type": "execute_result"
    }
   ],
   "source": [
    "# get high open_interest contract\n",
    "open_interest = 0\n",
    "high_open_interest_contract = None\n",
    "for contract in res.option_contracts:\n",
    "    if (contract.open_interest is not None) and (int(contract.open_interest) > open_interest):\n",
    "        open_interest = int(contract.open_interest)\n",
    "        high_open_interest_contract = contract\n",
    "high_open_interest_contract"
   ]
  },
  {
   "cell_type": "code",
   "execution_count": 19,
   "metadata": {},
   "outputs": [
    {
     "data": {
      "text/plain": [
       "{   'asset_class': <AssetClass.US_OPTION: 'us_option'>,\n",
       "    'asset_id': UUID('50d52dc3-87ac-475b-87b0-1684827f8a1e'),\n",
       "    'canceled_at': None,\n",
       "    'client_order_id': '2baf0122-426e-4ec7-8189-6d9c54ed401b',\n",
       "    'created_at': datetime.datetime(2024, 9, 26, 15, 38, 9, 802510, tzinfo=TzInfo(UTC)),\n",
       "    'expired_at': None,\n",
       "    'extended_hours': False,\n",
       "    'failed_at': None,\n",
       "    'filled_at': None,\n",
       "    'filled_avg_price': None,\n",
       "    'filled_qty': '0',\n",
       "    'hwm': None,\n",
       "    'id': UUID('9e20b47d-1e56-4d99-92ca-2750e07d4b4e'),\n",
       "    'legs': None,\n",
       "    'limit_price': None,\n",
       "    'notional': None,\n",
       "    'order_class': <OrderClass.SIMPLE: 'simple'>,\n",
       "    'order_type': <OrderType.MARKET: 'market'>,\n",
       "    'qty': '10',\n",
       "    'replaced_at': None,\n",
       "    'replaced_by': None,\n",
       "    'replaces': None,\n",
       "    'side': <OrderSide.BUY: 'buy'>,\n",
       "    'status': <OrderStatus.PENDING_NEW: 'pending_new'>,\n",
       "    'stop_price': None,\n",
       "    'submitted_at': datetime.datetime(2024, 9, 26, 15, 38, 9, 800254, tzinfo=TzInfo(UTC)),\n",
       "    'symbol': 'SPY240927P00420000',\n",
       "    'time_in_force': <TimeInForce.DAY: 'day'>,\n",
       "    'trail_percent': None,\n",
       "    'trail_price': None,\n",
       "    'type': <OrderType.MARKET: 'market'>,\n",
       "    'updated_at': datetime.datetime(2024, 9, 26, 15, 38, 9, 802547, tzinfo=TzInfo(UTC))}"
      ]
     },
     "execution_count": 19,
     "metadata": {},
     "output_type": "execute_result"
    }
   ],
   "source": [
    "# place buy put option order\n",
    "# - we can place buy put option order same as buy stock/crypto order\n",
    "req = MarketOrderRequest(\n",
    "    symbol = high_open_interest_contract.symbol,\n",
    "    qty = 10,\n",
    "    side = OrderSide.BUY,\n",
    "    type = OrderType.MARKET,\n",
    "    time_in_force = TimeInForce.DAY,\n",
    ")\n",
    "res = trade_client.submit_order(req)\n",
    "res"
   ]
  },
  {
   "cell_type": "code",
   "execution_count": 15,
   "metadata": {},
   "outputs": [
    {
     "data": {
      "text/plain": [
       "[]"
      ]
     },
     "execution_count": 15,
     "metadata": {},
     "output_type": "execute_result"
    }
   ],
   "source": [
    "# get list of orders by specifying option contract symbol\n",
    "req = GetOrdersRequest(\n",
    "    status = QueryOrderStatus.ALL,\n",
    "    symbols = [high_open_interest_contract.symbol],\n",
    "    limit = 2,\n",
    ")\n",
    "orders = trade_client.get_orders(req)\n",
    "orders"
   ]
  },
  {
   "cell_type": "code",
   "execution_count": 16,
   "metadata": {},
   "outputs": [
    {
     "data": {
      "text/plain": [
       "[]"
      ]
     },
     "execution_count": 16,
     "metadata": {},
     "output_type": "execute_result"
    }
   ],
   "source": [
    "# below cells should be done after market open otherwise there is no position for the option contract\n",
    "\n",
    "# get positions filtered by option contract symbol\n",
    "# if you do this example outside of market hours, you will see empty list\n",
    "# because we have no position in this option contract\n",
    "# please wait market open and run this example again\n",
    "positions = trade_client.get_all_positions()\n",
    "[pos for pos in positions if pos.symbol == high_open_interest_contract.symbol]"
   ]
  },
  {
   "cell_type": "code",
   "execution_count": 20,
   "metadata": {},
   "outputs": [
    {
     "data": {
      "text/plain": [
       "{   'asset_class': <AssetClass.US_OPTION: 'us_option'>,\n",
       "    'asset_id': UUID('50d52dc3-87ac-475b-87b0-1684827f8a1e'),\n",
       "    'asset_marginable': True,\n",
       "    'avg_entry_price': '0.01',\n",
       "    'avg_entry_swap_rate': None,\n",
       "    'change_today': '0',\n",
       "    'cost_basis': '10',\n",
       "    'current_price': '0.01',\n",
       "    'exchange': <AssetExchange.EMPTY: ''>,\n",
       "    'lastday_price': '0.01',\n",
       "    'market_value': '10',\n",
       "    'qty': '10',\n",
       "    'qty_available': '10',\n",
       "    'side': <PositionSide.LONG: 'long'>,\n",
       "    'swap_rate': None,\n",
       "    'symbol': 'SPY240927P00420000',\n",
       "    'unrealized_intraday_pl': '0',\n",
       "    'unrealized_intraday_plpc': '0',\n",
       "    'unrealized_pl': '0',\n",
       "    'unrealized_plpc': '0',\n",
       "    'usd': None}"
      ]
     },
     "execution_count": 20,
     "metadata": {},
     "output_type": "execute_result"
    }
   ],
   "source": [
    "# get positions by symbol\n",
    "trade_client.get_open_position(symbol_or_asset_id=high_open_interest_contract.symbol)\n"
   ]
  },
  {
   "cell_type": "code",
   "execution_count": 21,
   "metadata": {},
   "outputs": [
    {
     "data": {
      "text/plain": [
       "{   'asset_class': <AssetClass.US_OPTION: 'us_option'>,\n",
       "    'asset_id': UUID('50d52dc3-87ac-475b-87b0-1684827f8a1e'),\n",
       "    'asset_marginable': True,\n",
       "    'avg_entry_price': '0.01',\n",
       "    'avg_entry_swap_rate': None,\n",
       "    'change_today': '0',\n",
       "    'cost_basis': '10',\n",
       "    'current_price': '0.01',\n",
       "    'exchange': <AssetExchange.EMPTY: ''>,\n",
       "    'lastday_price': '0.01',\n",
       "    'market_value': '10',\n",
       "    'qty': '10',\n",
       "    'qty_available': '10',\n",
       "    'side': <PositionSide.LONG: 'long'>,\n",
       "    'swap_rate': None,\n",
       "    'symbol': 'SPY240927P00420000',\n",
       "    'unrealized_intraday_pl': '0',\n",
       "    'unrealized_intraday_plpc': '0',\n",
       "    'unrealized_pl': '0',\n",
       "    'unrealized_plpc': '0',\n",
       "    'usd': None}"
      ]
     },
     "execution_count": 21,
     "metadata": {},
     "output_type": "execute_result"
    }
   ],
   "source": [
    "# get positions by contract id\n",
    "trade_client.get_open_position(symbol_or_asset_id = high_open_interest_contract.id)"
   ]
  },
  {
   "cell_type": "code",
   "execution_count": 22,
   "metadata": {},
   "outputs": [
    {
     "data": {
      "text/plain": [
       "{   'asset_class': <AssetClass.US_OPTION: 'us_option'>,\n",
       "    'asset_id': UUID('50d52dc3-87ac-475b-87b0-1684827f8a1e'),\n",
       "    'canceled_at': None,\n",
       "    'client_order_id': '80cd04ed-b3df-4d98-9ae5-72610096ca9b',\n",
       "    'created_at': datetime.datetime(2024, 9, 26, 15, 38, 16, 269122, tzinfo=TzInfo(UTC)),\n",
       "    'expired_at': None,\n",
       "    'extended_hours': False,\n",
       "    'failed_at': None,\n",
       "    'filled_at': None,\n",
       "    'filled_avg_price': None,\n",
       "    'filled_qty': '0',\n",
       "    'hwm': None,\n",
       "    'id': UUID('796b7535-4b43-4848-9052-a6578060ef44'),\n",
       "    'legs': None,\n",
       "    'limit_price': None,\n",
       "    'notional': None,\n",
       "    'order_class': <OrderClass.SIMPLE: 'simple'>,\n",
       "    'order_type': <OrderType.MARKET: 'market'>,\n",
       "    'qty': '10',\n",
       "    'replaced_at': None,\n",
       "    'replaced_by': None,\n",
       "    'replaces': None,\n",
       "    'side': <OrderSide.SELL: 'sell'>,\n",
       "    'status': <OrderStatus.PENDING_NEW: 'pending_new'>,\n",
       "    'stop_price': None,\n",
       "    'submitted_at': datetime.datetime(2024, 9, 26, 15, 38, 16, 267234, tzinfo=TzInfo(UTC)),\n",
       "    'symbol': 'SPY240927P00420000',\n",
       "    'time_in_force': <TimeInForce.DAY: 'day'>,\n",
       "    'trail_percent': None,\n",
       "    'trail_price': None,\n",
       "    'type': <OrderType.MARKET: 'market'>,\n",
       "    'updated_at': datetime.datetime(2024, 9, 26, 15, 38, 16, 269170, tzinfo=TzInfo(UTC))}"
      ]
     },
     "execution_count": 22,
     "metadata": {},
     "output_type": "execute_result"
    }
   ],
   "source": [
    "# close the option position (sell the option contract)\n",
    "trade_client.close_position(\n",
    "    symbol_or_asset_id = high_open_interest_contract.symbol,\n",
    "    close_options = ClosePositionRequest(qty = \"20\")\n",
    ")"
   ]
  },
  {
   "cell_type": "code",
   "execution_count": null,
   "metadata": {},
   "outputs": [],
   "source": [
    "# exercise the options position\n",
    "# - this method does not return anything\n",
    "trade_client.exercise_options_position(\n",
    "    symbol_or_contract_id = high_open_interest_contract.symbol\n",
    ")"
   ]
  },
  {
   "cell_type": "markdown",
   "metadata": {},
   "source": [
    "# Trade Update (Stream)"
   ]
  },
  {
   "cell_type": "markdown",
   "metadata": {},
   "source": [
    "With TradingStream client, you can get updates about trades\n",
    "\n",
    "fyi. you can open this notebook in another window and run below cell to check trade updates."
   ]
  },
  {
   "cell_type": "code",
   "execution_count": 23,
   "metadata": {},
   "outputs": [
    {
     "name": "stdout",
     "output_type": "stream",
     "text": [
      "keyboard interrupt, bye\n"
     ]
    },
    {
     "name": "stderr",
     "output_type": "stream",
     "text": [
      "data transfer failed\n",
      "Traceback (most recent call last):\n",
      "  File \"/Users/satoshiido/miniforge3/envs/python310/lib/python3.10/site-packages/websockets/legacy/protocol.py\", line 968, in transfer_data\n",
      "    message = await self.read_message()\n",
      "  File \"/Users/satoshiido/miniforge3/envs/python310/lib/python3.10/site-packages/websockets/legacy/protocol.py\", line 1038, in read_message\n",
      "    frame = await self.read_data_frame(max_size=self.max_size)\n",
      "  File \"/Users/satoshiido/miniforge3/envs/python310/lib/python3.10/site-packages/websockets/legacy/protocol.py\", line 1113, in read_data_frame\n",
      "    frame = await self.read_frame(max_size)\n",
      "  File \"/Users/satoshiido/miniforge3/envs/python310/lib/python3.10/site-packages/websockets/legacy/protocol.py\", line 1170, in read_frame\n",
      "    frame = await Frame.read(\n",
      "  File \"/Users/satoshiido/miniforge3/envs/python310/lib/python3.10/site-packages/websockets/legacy/framing.py\", line 69, in read\n",
      "    data = await reader(2)\n",
      "  File \"/Users/satoshiido/miniforge3/envs/python310/lib/python3.10/asyncio/streams.py\", line 708, in readexactly\n",
      "    await self._wait_for_data('readexactly')\n",
      "  File \"/Users/satoshiido/miniforge3/envs/python310/lib/python3.10/asyncio/streams.py\", line 501, in _wait_for_data\n",
      "    await self._waiter\n",
      "  File \"/Users/satoshiido/miniforge3/envs/python310/lib/python3.10/asyncio/futures.py\", line 285, in __await__\n",
      "    yield self  # This tells Task to wait for completion.\n",
      "  File \"/Users/satoshiido/miniforge3/envs/python310/lib/python3.10/asyncio/tasks.py\", line 304, in __wakeup\n",
      "    future.result()\n",
      "  File \"/Users/satoshiido/miniforge3/envs/python310/lib/python3.10/asyncio/futures.py\", line 201, in result\n",
      "    raise self._exception.with_traceback(self._exception_tb)\n",
      "  File \"/Users/satoshiido/miniforge3/envs/python310/lib/python3.10/asyncio/selector_events.py\", line 862, in _read_ready__data_received\n",
      "    data = self._sock.recv(self.max_size)\n",
      "OSError: [Errno 65] No route to host\n"
     ]
    }
   ],
   "source": [
    "# ensure the event loop can run in a Jupyter notebook\n",
    "nest_asyncio.apply()\n",
    "\n",
    "# subscribe trade updates\n",
    "trade_stream_client = TradingStream(api_key, secret_key, paper=paper, url_override = trade_api_wss)\n",
    "\n",
    "async def trade_updates_handler(data):\n",
    "    print(data)\n",
    "\n",
    "trade_stream_client.subscribe_trade_updates(trade_updates_handler)\n",
    "trade_stream_client.run()"
   ]
  },
  {
   "cell_type": "markdown",
   "metadata": {},
   "source": [
    "# Market Data (Historical)"
   ]
  },
  {
   "cell_type": "code",
   "execution_count": null,
   "metadata": {},
   "outputs": [],
   "source": [
    "# setup option historical data client\n",
    "option_historical_data_client = OptionHistoricalDataClient(api_key, secret_key, url_override = data_api_url)"
   ]
  },
  {
   "cell_type": "code",
   "execution_count": null,
   "metadata": {},
   "outputs": [],
   "source": [
    "# get options historical bars by symbol\n",
    "req = OptionBarsRequest(\n",
    "    symbol_or_symbols = high_open_interest_contract.symbol,\n",
    "    timeframe = TimeFrame(amount = 1, unit = TimeFrameUnit.Hour),   # specify timeframe\n",
    "    start = now - timedelta(days = 5),                              # specify start datetime, default=the beginning of the current day.\n",
    "    # end_date=None,                                                # specify end datetime, default=now\n",
    "    limit = 2,                                                      # specify limit\n",
    ")\n",
    "option_historical_data_client.get_option_bars(req).df"
   ]
  },
  {
   "cell_type": "code",
   "execution_count": null,
   "metadata": {},
   "outputs": [],
   "source": [
    "# get options historical trades by symbol\n",
    "req = OptionTradesRequest(\n",
    "    symbol_or_symbols = high_open_interest_contract.symbol,\n",
    "    start = now - timedelta(days = 5),                              # specify start datetime, default=the beginning of the current day.\n",
    "    # end=None,                                                     # specify end datetime, default=now\n",
    "    limit = 2,                                                      # specify limit\n",
    ")\n",
    "option_historical_data_client.get_option_trades(req).df"
   ]
  },
  {
   "cell_type": "code",
   "execution_count": null,
   "metadata": {},
   "outputs": [],
   "source": [
    "# get options exchange codes\n",
    "option_historical_data_client.get_option_exchange_codes()"
   ]
  },
  {
   "cell_type": "code",
   "execution_count": null,
   "metadata": {},
   "outputs": [],
   "source": [
    "# get option latest quote by symbol\n",
    "req = OptionLatestQuoteRequest(\n",
    "    symbol_or_symbols = [high_open_interest_contract.symbol],\n",
    ")\n",
    "option_historical_data_client.get_option_latest_quote(req)"
   ]
  },
  {
   "cell_type": "code",
   "execution_count": null,
   "metadata": {},
   "outputs": [],
   "source": [
    "# get option latest trade by symbol\n",
    "req = OptionLatestTradeRequest(\n",
    "    symbol_or_symbols = [high_open_interest_contract.symbol],\n",
    ")\n",
    "option_historical_data_client.get_option_latest_trade(req)"
   ]
  },
  {
   "cell_type": "code",
   "execution_count": null,
   "metadata": {},
   "outputs": [],
   "source": [
    "# get option snapshot by symbol\n",
    "req = OptionSnapshotRequest(\n",
    "    symbol_or_symbols = [high_open_interest_contract.symbol],\n",
    ")\n",
    "option_historical_data_client.get_option_snapshot(req)"
   ]
  },
  {
   "cell_type": "code",
   "execution_count": null,
   "metadata": {},
   "outputs": [],
   "source": [
    "# get option chain by underlying_symbol\n",
    "req = OptionChainRequest(\n",
    "    underlying_symbol = high_open_interest_contract.underlying_symbol,\n",
    ")\n",
    "option_historical_data_client.get_option_chain(req)"
   ]
  },
  {
   "cell_type": "markdown",
   "metadata": {},
   "source": [
    "# Market Data (Stream)"
   ]
  },
  {
   "cell_type": "code",
   "execution_count": null,
   "metadata": {},
   "outputs": [],
   "source": [
    "option_data_stream_client = OptionDataStream(api_key, secret_key, url_override = option_stream_data_wss)\n",
    "\n",
    "async def option_data_stream_handler(data):\n",
    "    print(data)\n",
    "\n",
    "symbols = [\n",
    "    high_open_interest_contract.symbol,\n",
    "]\n",
    "\n",
    "option_data_stream_client.subscribe_quotes(option_data_stream_handler, *symbols) \n",
    "option_data_stream_client.subscribe_trades(option_data_stream_handler, *symbols)\n",
    "\n",
    "option_data_stream_client.run()"
   ]
  }
 ],
 "metadata": {
  "kernelspec": {
   "display_name": ".venv",
   "language": "python",
   "name": "python3"
  },
  "language_info": {
   "codemirror_mode": {
    "name": "ipython",
    "version": 3
   },
   "file_extension": ".py",
   "mimetype": "text/x-python",
   "name": "python",
   "nbconvert_exporter": "python",
   "pygments_lexer": "ipython3",
   "version": "3.10.13"
  }
 },
 "nbformat": 4,
 "nbformat_minor": 2
}
