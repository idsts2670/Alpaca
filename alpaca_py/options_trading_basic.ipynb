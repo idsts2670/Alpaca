{
 "cells": [
  {
   "cell_type": "markdown",
   "metadata": {},
   "source": [
    "# Alpaca-py options trading basic"
   ]
  },
  {
   "cell_type": "markdown",
   "metadata": {},
   "source": [
    "[![Open In Colab](https://colab.research.google.com/assets/colab-badge.svg)](https://colab.research.google.com/github/alpacahq/alpaca-py/blob/master/examples/options-trading-basic.ipynb)"
   ]
  },
  {
   "cell_type": "markdown",
   "metadata": {},
   "source": [
    "- This notebook shows how to use alpaca-py with options trading API endpoints\n",
    "- Please use ``paper account``. Please ``DO NOT`` use this notebook with live account. In this notebook, we place orders for options as an example."
   ]
  },
  {
   "cell_type": "code",
   "execution_count": null,
   "metadata": {},
   "outputs": [],
   "source": [
    "! python3 -m install alpaca-py\n",
    "! python3 -m pip install alpaca-py"
   ]
  },
  {
   "cell_type": "code",
   "execution_count": 1,
   "metadata": {},
   "outputs": [],
   "source": [
    "# Please change the following to your own PAPER api key and secret\n",
    "# You can get them from https://alpaca.markets/\n",
    "\n",
    "from dotenv import load_dotenv\n",
    "import os\n",
    "\n",
    "# keys is stored in config.env file\n",
    "# - Specify the path to the config.env file\n",
    "dotenv_path = os.path.join(os.getcwd(), \"config.env\")\n",
    "# Load environment variables from the specified .env file\n",
    "load_dotenv(dotenv_path)\n",
    "\n",
    "api_key = os.getenv(\"ALPACA_API_KEY_PAPER\")\n",
    "secret_key = os.getenv('ALPACA_API_SECRET_KEY_PAPER')\n",
    "base_url = os.getenv('ALPACA_BASE_URL')\n",
    "\n",
    "#### We use paper environment for this example ####\n",
    "paper = True # Please do not modify this. This example is for paper trading only.\n",
    "####\n",
    "\n",
    "# Below are the variables for development this documents\n",
    "# Please do not change these variables\n",
    "\n",
    "trade_api_url = None\n",
    "trade_api_wss = None\n",
    "data_api_url = None\n",
    "option_stream_data_wss = None"
   ]
  },
  {
   "cell_type": "code",
   "execution_count": 2,
   "metadata": {},
   "outputs": [],
   "source": [
    "import json\n",
    "from datetime import datetime, timedelta\n",
    "from zoneinfo import ZoneInfo\n",
    "\n",
    "import alpaca\n",
    "from alpaca.trading.client import TradingClient\n",
    "from alpaca.data.timeframe import TimeFrame, TimeFrameUnit\n",
    "from alpaca.data.historical.option import OptionHistoricalDataClient\n",
    "from alpaca.trading.stream import TradingStream\n",
    "from alpaca.data.live.option import OptionDataStream\n",
    "\n",
    "from alpaca.data.requests import (\n",
    "    OptionBarsRequest,\n",
    "    OptionTradesRequest,\n",
    "    OptionLatestQuoteRequest,\n",
    "    OptionLatestTradeRequest,\n",
    "    OptionSnapshotRequest,\n",
    "    OptionChainRequest    \n",
    ")\n",
    "from alpaca.trading.requests import (\n",
    "    GetOptionContractsRequest,\n",
    "    GetAssetsRequest,\n",
    "    MarketOrderRequest,\n",
    "    GetOrdersRequest,\n",
    "    ClosePositionRequest\n",
    ")\n",
    "from alpaca.trading.enums import (\n",
    "    AssetStatus,\n",
    "    ExerciseStyle,\n",
    "    OrderSide,\n",
    "    OrderType,\n",
    "    TimeInForce,\n",
    "    QueryOrderStatus \n",
    ")\n",
    "from alpaca.common.exceptions import APIError"
   ]
  },
  {
   "cell_type": "code",
   "execution_count": 3,
   "metadata": {},
   "outputs": [],
   "source": [
    "# to run async code in jupyter notebook\n",
    "import nest_asyncio\n",
    "nest_asyncio.apply()"
   ]
  },
  {
   "cell_type": "code",
   "execution_count": 4,
   "metadata": {},
   "outputs": [
    {
     "data": {
      "text/plain": [
       "'0.30.1'"
      ]
     },
     "execution_count": 4,
     "metadata": {},
     "output_type": "execute_result"
    }
   ],
   "source": [
    "# check version of alpaca-py\n",
    "alpaca.__version__"
   ]
  },
  {
   "cell_type": "markdown",
   "metadata": {},
   "source": [
    "# Trading Client"
   ]
  },
  {
   "cell_type": "code",
   "execution_count": 5,
   "metadata": {},
   "outputs": [],
   "source": [
    "# setup clients\n",
    "# - TradingClient is a class. You can instantiate it given parameters such as API key and secret key.\n",
    "trade_client = TradingClient(api_key=api_key, secret_key=secret_key, paper=paper, url_override=trade_api_url)"
   ]
  },
  {
   "cell_type": "code",
   "execution_count": 6,
   "metadata": {},
   "outputs": [
    {
     "data": {
      "text/plain": [
       "{   'account_blocked': False,\n",
       "    'account_number': 'PA3P9DF5CZ5G',\n",
       "    'accrued_fees': '0',\n",
       "    'buying_power': '131923.96',\n",
       "    'cash': '18061.62',\n",
       "    'created_at': datetime.datetime(2024, 5, 15, 18, 59, 39, 40242, tzinfo=TzInfo(UTC)),\n",
       "    'crypto_status': <AccountStatus.ACTIVE: 'ACTIVE'>,\n",
       "    'currency': 'USD',\n",
       "    'daytrade_count': 0,\n",
       "    'daytrading_buying_power': '0',\n",
       "    'equity': '113862.34',\n",
       "    'id': UUID('8124b3d1-e06e-4212-8930-0f9b5f69c050'),\n",
       "    'initial_margin': '47900.36',\n",
       "    'last_equity': '110604.17',\n",
       "    'last_maintenance_margin': '30974.97',\n",
       "    'long_market_value': '95800.72',\n",
       "    'maintenance_margin': '32277.02',\n",
       "    'multiplier': '2',\n",
       "    'non_marginable_buying_power': '63961.98',\n",
       "    'options_approved_level': 2,\n",
       "    'options_buying_power': '81585.32',\n",
       "    'options_trading_level': 2,\n",
       "    'pattern_day_trader': False,\n",
       "    'pending_transfer_in': None,\n",
       "    'pending_transfer_out': None,\n",
       "    'portfolio_value': '113862.34',\n",
       "    'regt_buying_power': '131923.96',\n",
       "    'short_market_value': '0',\n",
       "    'shorting_enabled': True,\n",
       "    'sma': '107917.46',\n",
       "    'status': <AccountStatus.ACTIVE: 'ACTIVE'>,\n",
       "    'trade_suspended_by_user': False,\n",
       "    'trading_blocked': False,\n",
       "    'transfers_blocked': False}"
      ]
     },
     "execution_count": 6,
     "metadata": {},
     "output_type": "execute_result"
    }
   ],
   "source": [
    "# check trading account\n",
    "# There are trhee new columns in the account object:\n",
    "# - options_buying_power\n",
    "# - options_approved_level\n",
    "# - options_trading_level\n",
    "acct = trade_client.get_account()\n",
    "acct"
   ]
  },
  {
   "cell_type": "code",
   "execution_count": 7,
   "metadata": {},
   "outputs": [
    {
     "data": {
      "text/plain": [
       "{   'dtbp_check': <DTBPCheck.ENTRY: 'entry'>,\n",
       "    'fractional_trading': True,\n",
       "    'max_margin_multiplier': '4',\n",
       "    'max_options_trading_level': None,\n",
       "    'no_shorting': False,\n",
       "    'pdt_check': <PDTCheck.ENTRY: 'entry'>,\n",
       "    'ptp_no_exception_entry': False,\n",
       "    'suspend_trade': False,\n",
       "    'trade_confirm_email': <TradeConfirmationEmail.ALL: 'all'>}"
      ]
     },
     "execution_count": 7,
     "metadata": {},
     "output_type": "execute_result"
    }
   ],
   "source": [
    "# check account configuration\n",
    "# - we have new field `max_options_trading_level`\n",
    "acct_config = trade_client.get_account_configurations()\n",
    "acct_config"
   ]
  },
  {
   "cell_type": "code",
   "execution_count": 8,
   "metadata": {},
   "outputs": [
    {
     "data": {
      "text/plain": [
       "[{   'asset_class': <AssetClass.US_EQUITY: 'us_equity'>,\n",
       "     'attributes': ['has_options'],\n",
       "     'easy_to_borrow': False,\n",
       "     'exchange': <AssetExchange.OTC: 'OTC'>,\n",
       "     'fractionable': False,\n",
       "     'id': UUID('b64671e3-d25c-47a9-bc11-60906bddf711'),\n",
       "     'maintenance_margin_requirement': 100.0,\n",
       "     'marginable': False,\n",
       "     'min_order_size': None,\n",
       "     'min_trade_increment': None,\n",
       "     'name': 'ELYS BMG GROUP, INC. Common Stock',\n",
       "     'price_increment': None,\n",
       "     'shortable': False,\n",
       "     'status': <AssetStatus.ACTIVE: 'active'>,\n",
       "     'symbol': 'ELYS',\n",
       "     'tradable': False},\n",
       " {   'asset_class': <AssetClass.US_EQUITY: 'us_equity'>,\n",
       "     'attributes': ['has_options'],\n",
       "     'easy_to_borrow': False,\n",
       "     'exchange': <AssetExchange.OTC: 'OTC'>,\n",
       "     'fractionable': False,\n",
       "     'id': UUID('6358e6de-566c-4978-87ac-7aeed11e0945'),\n",
       "     'maintenance_margin_requirement': 100.0,\n",
       "     'marginable': False,\n",
       "     'min_order_size': None,\n",
       "     'min_trade_increment': None,\n",
       "     'name': 'Remark Holdings Inc Common Stock',\n",
       "     'price_increment': None,\n",
       "     'shortable': False,\n",
       "     'status': <AssetStatus.ACTIVE: 'active'>,\n",
       "     'symbol': 'MARK',\n",
       "     'tradable': False}]"
      ]
     },
     "execution_count": 8,
     "metadata": {},
     "output_type": "execute_result"
    }
   ],
   "source": [
    "# get list of assets which are options enabled\n",
    "# - we can filter assets by `options_enabled` attribute\n",
    "# - asset object has `options_enabled` attribute if it is options enabled\n",
    "req = GetAssetsRequest(\n",
    "  attributes = \"options_enabled\"  \n",
    ")\n",
    "assets = trade_client.get_all_assets(req)\n",
    "assets[:2]"
   ]
  },
  {
   "cell_type": "code",
   "execution_count": 9,
   "metadata": {},
   "outputs": [
    {
     "data": {
      "text/plain": [
       "{   'next_page_token': 'Mg==',\n",
       "    'option_contracts': [   {   'close_price': '225.72',\n",
       "                                'close_price_date': datetime.date(2024, 7, 11),\n",
       "                                'expiration_date': datetime.date(2024, 11, 15),\n",
       "                                'id': 'fc7aa684-bdc4-405b-93bb-b095c58c05a3',\n",
       "                                'name': 'AAPL Nov 15 2024 5 Call',\n",
       "                                'open_interest': None,\n",
       "                                'open_interest_date': None,\n",
       "                                'root_symbol': 'AAPL',\n",
       "                                'size': '100',\n",
       "                                'status': <AssetStatus.ACTIVE: 'active'>,\n",
       "                                'strike_price': 5.0,\n",
       "                                'style': <ExerciseStyle.AMERICAN: 'american'>,\n",
       "                                'symbol': 'AAPL241115C00005000',\n",
       "                                'tradable': True,\n",
       "                                'type': <ContractType.CALL: 'call'>,\n",
       "                                'underlying_asset_id': UUID('b0b6dd9d-8b9b-48a9-ba46-b9d54906e415'),\n",
       "                                'underlying_symbol': 'AAPL'},\n",
       "                            {   'close_price': '217.5',\n",
       "                                'close_price_date': datetime.date(2024, 11, 7),\n",
       "                                'expiration_date': datetime.date(2024, 11, 15),\n",
       "                                'id': '59b0277f-4cec-4d47-8839-8c3e60181651',\n",
       "                                'name': 'AAPL Nov 15 2024 10 Call',\n",
       "                                'open_interest': None,\n",
       "                                'open_interest_date': None,\n",
       "                                'root_symbol': 'AAPL',\n",
       "                                'size': '100',\n",
       "                                'status': <AssetStatus.ACTIVE: 'active'>,\n",
       "                                'strike_price': 10.0,\n",
       "                                'style': <ExerciseStyle.AMERICAN: 'american'>,\n",
       "                                'symbol': 'AAPL241115C00010000',\n",
       "                                'tradable': True,\n",
       "                                'type': <ContractType.CALL: 'call'>,\n",
       "                                'underlying_asset_id': UUID('b0b6dd9d-8b9b-48a9-ba46-b9d54906e415'),\n",
       "                                'underlying_symbol': 'AAPL'}]}"
      ]
     },
     "execution_count": 9,
     "metadata": {},
     "output_type": "execute_result"
    }
   ],
   "source": [
    "# get list of options contracts for the given underlying symbol (e.g. SPY,AAPL)\n",
    "# - get_option_contracts() is a new method to get list of options contracts\n",
    "# - in this example, we get 2 options contracts for SPY,AAPL\n",
    "# - you can continue to fetch options contracts by specifying page_token from next_page_token of response\n",
    "underlying_symbols = [\"SPY\", \"AAPL\"]\n",
    "# - GetOptionContractsRequest is a request object (request model) to get list of options contracts\n",
    "req = GetOptionContractsRequest(\n",
    "    underlying_symbols = underlying_symbols,               # specify underlying symbols\n",
    "    status = AssetStatus.ACTIVE,                           # specify asset status: active (default)\n",
    "    expiration_date = None,                                # specify expiration date (specified date + 1 day range)\n",
    "    expiration_date_gte = None,                            # we can pass date object\n",
    "    expiration_date_lte = None,                            # or string (YYYY-MM-DD)\n",
    "    root_symbol = None,                                    # specify root symbol\n",
    "    type = None,                                           # specify option type (ContractType.CALL or ContractType.PUT)\n",
    "    style = None,                                          # specify option style (ContractStyle.AMERICAN or ContractStyle.EUROPEAN)\n",
    "    strike_price_gte = None,                               # specify strike price range\n",
    "    strike_price_lte = None,                               # specify strike price range\n",
    "    limit = 2,                                             # specify limit\n",
    "    page_token = None,                                     # specify page token\n",
    ")\n",
    "res = trade_client.get_option_contracts(req)\n",
    "res"
   ]
  },
  {
   "cell_type": "code",
   "execution_count": 10,
   "metadata": {},
   "outputs": [
    {
     "data": {
      "text/plain": [
       "{   'next_page_token': 'NA==',\n",
       "    'option_contracts': [   {   'close_price': '212.95',\n",
       "                                'close_price_date': datetime.date(2024, 10, 10),\n",
       "                                'expiration_date': datetime.date(2024, 11, 15),\n",
       "                                'id': 'a3cbcd4c-aeb6-40e1-b871-3cbf18da88cf',\n",
       "                                'name': 'AAPL Nov 15 2024 15 Call',\n",
       "                                'open_interest': None,\n",
       "                                'open_interest_date': None,\n",
       "                                'root_symbol': 'AAPL',\n",
       "                                'size': '100',\n",
       "                                'status': <AssetStatus.ACTIVE: 'active'>,\n",
       "                                'strike_price': 15.0,\n",
       "                                'style': <ExerciseStyle.AMERICAN: 'american'>,\n",
       "                                'symbol': 'AAPL241115C00015000',\n",
       "                                'tradable': True,\n",
       "                                'type': <ContractType.CALL: 'call'>,\n",
       "                                'underlying_asset_id': UUID('b0b6dd9d-8b9b-48a9-ba46-b9d54906e415'),\n",
       "                                'underlying_symbol': 'AAPL'},\n",
       "                            {   'close_price': '202.6',\n",
       "                                'close_price_date': datetime.date(2024, 10, 7),\n",
       "                                'expiration_date': datetime.date(2024, 11, 15),\n",
       "                                'id': '5c5cef4a-3048-4003-bce7-0729c880e578',\n",
       "                                'name': 'AAPL Nov 15 2024 20 Call',\n",
       "                                'open_interest': None,\n",
       "                                'open_interest_date': None,\n",
       "                                'root_symbol': 'AAPL',\n",
       "                                'size': '100',\n",
       "                                'status': <AssetStatus.ACTIVE: 'active'>,\n",
       "                                'strike_price': 20.0,\n",
       "                                'style': <ExerciseStyle.AMERICAN: 'american'>,\n",
       "                                'symbol': 'AAPL241115C00020000',\n",
       "                                'tradable': True,\n",
       "                                'type': <ContractType.CALL: 'call'>,\n",
       "                                'underlying_asset_id': UUID('b0b6dd9d-8b9b-48a9-ba46-b9d54906e415'),\n",
       "                                'underlying_symbol': 'AAPL'}]}"
      ]
     },
     "metadata": {},
     "output_type": "display_data"
    }
   ],
   "source": [
    "# continue to fetch option contracts if there is next_page_token in response\n",
    "if res.next_page_token is not None:\n",
    "    req = GetOptionContractsRequest(\n",
    "        underlying_symbols = underlying_symbols,               # specify underlying symbols\n",
    "        status = AssetStatus.ACTIVE,                           # specify asset status: active (default)\n",
    "        expiration_date = None,                                # specify expiration date (specified date + 1 day range)\n",
    "        expiration_date_gte = None,                            # we can pass date object\n",
    "        expiration_date_lte = None,                            # or string (YYYY-MM-DD)\n",
    "        root_symbol = None,                                    # specify root symbol\n",
    "        type = None,                                           # specify option type (ContractType.CALL or ContractType.PUT) Default is \"call\"\n",
    "        style = None,                                          # specify option style (ContractStyle.AMERICAN or ContractStyle.EUROPEAN)\n",
    "        strike_price_gte = None,                               # specify strike price range\n",
    "        strike_price_lte = None,                               # specify strike price range\n",
    "        limit = 2,                                             # specify limit\n",
    "        page_token = res.next_page_token,                      # specify page token\n",
    "    )\n",
    "    res = trade_client.get_option_contracts(req)\n",
    "    display(res)"
   ]
  },
  {
   "cell_type": "code",
   "execution_count": 11,
   "metadata": {},
   "outputs": [
    {
     "data": {
      "text/plain": [
       "{   'close_price': '212.95',\n",
       "    'close_price_date': datetime.date(2024, 10, 10),\n",
       "    'expiration_date': datetime.date(2024, 11, 15),\n",
       "    'id': 'a3cbcd4c-aeb6-40e1-b871-3cbf18da88cf',\n",
       "    'name': 'AAPL Nov 15 2024 15 Call',\n",
       "    'open_interest': None,\n",
       "    'open_interest_date': None,\n",
       "    'root_symbol': 'AAPL',\n",
       "    'size': '100',\n",
       "    'status': <AssetStatus.ACTIVE: 'active'>,\n",
       "    'strike_price': 15.0,\n",
       "    'style': <ExerciseStyle.AMERICAN: 'american'>,\n",
       "    'symbol': 'AAPL241115C00015000',\n",
       "    'tradable': True,\n",
       "    'type': <ContractType.CALL: 'call'>,\n",
       "    'underlying_asset_id': UUID('b0b6dd9d-8b9b-48a9-ba46-b9d54906e415'),\n",
       "    'underlying_symbol': 'AAPL'}"
      ]
     },
     "execution_count": 11,
     "metadata": {},
     "output_type": "execute_result"
    }
   ],
   "source": [
    "# get options contract by symbol\n",
    "# - get_option_contract() is a new method to get options contract by symbol or id\n",
    "# - in this example, we get the first options contract from the previous response\n",
    "symbol = res.option_contracts[0].symbol\n",
    "contract = trade_client.get_option_contract(symbol)\n",
    "contract"
   ]
  },
  {
   "cell_type": "code",
   "execution_count": 12,
   "metadata": {},
   "outputs": [
    {
     "data": {
      "text/plain": [
       "{   'close_price': '212.95',\n",
       "    'close_price_date': datetime.date(2024, 10, 10),\n",
       "    'expiration_date': datetime.date(2024, 11, 15),\n",
       "    'id': 'a3cbcd4c-aeb6-40e1-b871-3cbf18da88cf',\n",
       "    'name': 'AAPL Nov 15 2024 15 Call',\n",
       "    'open_interest': None,\n",
       "    'open_interest_date': None,\n",
       "    'root_symbol': 'AAPL',\n",
       "    'size': '100',\n",
       "    'status': <AssetStatus.ACTIVE: 'active'>,\n",
       "    'strike_price': 15.0,\n",
       "    'style': <ExerciseStyle.AMERICAN: 'american'>,\n",
       "    'symbol': 'AAPL241115C00015000',\n",
       "    'tradable': True,\n",
       "    'type': <ContractType.CALL: 'call'>,\n",
       "    'underlying_asset_id': UUID('b0b6dd9d-8b9b-48a9-ba46-b9d54906e415'),\n",
       "    'underlying_symbol': 'AAPL'}"
      ]
     },
     "execution_count": 12,
     "metadata": {},
     "output_type": "execute_result"
    }
   ],
   "source": [
    "# get options contract by id\n",
    "# - in this example, we get the first options contract from the previous response\n",
    "id = res.option_contracts[0].id\n",
    "contract = trade_client.get_option_contract(symbol_or_id=id)\n",
    "contract"
   ]
  },
  {
   "cell_type": "code",
   "execution_count": 27,
   "metadata": {},
   "outputs": [
    {
     "data": {
      "text/plain": [
       "[{   'close_price': None,\n",
       "     'close_price_date': None,\n",
       "     'expiration_date': datetime.date(2024, 11, 12),\n",
       "     'id': '9143297e-3ea8-4e58-b629-bbda868e8680',\n",
       "     'name': 'SPY Nov 12 2024 300 Put',\n",
       "     'open_interest': None,\n",
       "     'open_interest_date': None,\n",
       "     'root_symbol': 'SPY',\n",
       "     'size': '100',\n",
       "     'status': <AssetStatus.ACTIVE: 'active'>,\n",
       "     'strike_price': 300.0,\n",
       "     'style': <ExerciseStyle.AMERICAN: 'american'>,\n",
       "     'symbol': 'SPY241112P00300000',\n",
       "     'tradable': True,\n",
       "     'type': <ContractType.PUT: 'put'>,\n",
       "     'underlying_asset_id': UUID('b28f4066-5c6d-479b-a2af-85dc1a8f16fb'),\n",
       "     'underlying_symbol': 'SPY'},\n",
       " {   'close_price': None,\n",
       "     'close_price_date': None,\n",
       "     'expiration_date': datetime.date(2024, 11, 12),\n",
       "     'id': '8ccda5f2-4aa5-4dd0-897e-1fef5b13813d',\n",
       "     'name': 'SPY Nov 12 2024 305 Put',\n",
       "     'open_interest': None,\n",
       "     'open_interest_date': None,\n",
       "     'root_symbol': 'SPY',\n",
       "     'size': '100',\n",
       "     'status': <AssetStatus.ACTIVE: 'active'>,\n",
       "     'strike_price': 305.0,\n",
       "     'style': <ExerciseStyle.AMERICAN: 'american'>,\n",
       "     'symbol': 'SPY241112P00305000',\n",
       "     'tradable': True,\n",
       "     'type': <ContractType.PUT: 'put'>,\n",
       "     'underlying_asset_id': UUID('b28f4066-5c6d-479b-a2af-85dc1a8f16fb'),\n",
       "     'underlying_symbol': 'SPY'},\n",
       " {   'close_price': None,\n",
       "     'close_price_date': None,\n",
       "     'expiration_date': datetime.date(2024, 11, 12),\n",
       "     'id': 'd9aafe1a-4e23-4eac-93e8-dc619bb09d17',\n",
       "     'name': 'SPY Nov 12 2024 310 Put',\n",
       "     'open_interest': None,\n",
       "     'open_interest_date': None,\n",
       "     'root_symbol': 'SPY',\n",
       "     'size': '100',\n",
       "     'status': <AssetStatus.ACTIVE: 'active'>,\n",
       "     'strike_price': 310.0,\n",
       "     'style': <ExerciseStyle.AMERICAN: 'american'>,\n",
       "     'symbol': 'SPY241112P00310000',\n",
       "     'tradable': True,\n",
       "     'type': <ContractType.PUT: 'put'>,\n",
       "     'underlying_asset_id': UUID('b28f4066-5c6d-479b-a2af-85dc1a8f16fb'),\n",
       "     'underlying_symbol': 'SPY'},\n",
       " {   'close_price': None,\n",
       "     'close_price_date': None,\n",
       "     'expiration_date': datetime.date(2024, 11, 12),\n",
       "     'id': 'da24f9fd-b0b5-4bd9-af64-138e575c241e',\n",
       "     'name': 'SPY Nov 12 2024 315 Put',\n",
       "     'open_interest': None,\n",
       "     'open_interest_date': None,\n",
       "     'root_symbol': 'SPY',\n",
       "     'size': '100',\n",
       "     'status': <AssetStatus.ACTIVE: 'active'>,\n",
       "     'strike_price': 315.0,\n",
       "     'style': <ExerciseStyle.AMERICAN: 'american'>,\n",
       "     'symbol': 'SPY241112P00315000',\n",
       "     'tradable': True,\n",
       "     'type': <ContractType.PUT: 'put'>,\n",
       "     'underlying_asset_id': UUID('b28f4066-5c6d-479b-a2af-85dc1a8f16fb'),\n",
       "     'underlying_symbol': 'SPY'},\n",
       " {   'close_price': None,\n",
       "     'close_price_date': None,\n",
       "     'expiration_date': datetime.date(2024, 11, 12),\n",
       "     'id': 'f994c0d3-fef5-4deb-bf7c-3553e123ac74',\n",
       "     'name': 'SPY Nov 12 2024 320 Put',\n",
       "     'open_interest': None,\n",
       "     'open_interest_date': None,\n",
       "     'root_symbol': 'SPY',\n",
       "     'size': '100',\n",
       "     'status': <AssetStatus.ACTIVE: 'active'>,\n",
       "     'strike_price': 320.0,\n",
       "     'style': <ExerciseStyle.AMERICAN: 'american'>,\n",
       "     'symbol': 'SPY241112P00320000',\n",
       "     'tradable': True,\n",
       "     'type': <ContractType.PUT: 'put'>,\n",
       "     'underlying_asset_id': UUID('b28f4066-5c6d-479b-a2af-85dc1a8f16fb'),\n",
       "     'underlying_symbol': 'SPY'}]"
      ]
     },
     "execution_count": 27,
     "metadata": {},
     "output_type": "execute_result"
    }
   ],
   "source": [
    "# get put options contracts\n",
    "# - in this example, we get put options contracts for SPY = SPDR S&P 500 ETF\n",
    "underlying_symbols = [\"SPY\"]\n",
    "\n",
    "# specify expiration date range\n",
    "now = datetime.now(tz = ZoneInfo(\"America/New_York\"))\n",
    "day1 = now + timedelta(days = 1)\n",
    "day60 = now + timedelta(days = 60)\n",
    "\n",
    "req = GetOptionContractsRequest(\n",
    "    underlying_symbols = underlying_symbols,                     # specify underlying symbols\n",
    "    status = AssetStatus.ACTIVE,                                 # specify asset status: active (default)\n",
    "    expiration_date = None,                                      # specify expiration date (specified date + 1 day range)\n",
    "    expiration_date_gte = day1.date(),                           # we can pass date object\n",
    "    expiration_date_lte = day60.strftime(format = \"%Y-%m-%d\"),   # or string\n",
    "    root_symbol = None,                                          # specify root symbol\n",
    "    type = \"put\",                                                # specify option type: put\n",
    "    style = ExerciseStyle.AMERICAN,                              # specify option style: american\n",
    "    strike_price_gte = None,                                     # specify strike price range\n",
    "    strike_price_lte = None,                                     # specify strike price range\n",
    "    limit = 100,                                                 # specify limit\n",
    "    page_token = None,                                           # specify page\n",
    ")\n",
    "res = trade_client.get_option_contracts(req)\n",
    "res.option_contracts[:5]"
   ]
  },
  {
   "cell_type": "code",
   "execution_count": 14,
   "metadata": {},
   "outputs": [
    {
     "data": {
      "text/plain": [
       "{   'close_price': '0.03',\n",
       "    'close_price_date': datetime.date(2024, 11, 8),\n",
       "    'expiration_date': datetime.date(2024, 11, 12),\n",
       "    'id': '537c92be-2e32-49c3-a5bd-fea5495a108b',\n",
       "    'name': 'SPY Nov 12 2024 540 Put',\n",
       "    'open_interest': '12749',\n",
       "    'open_interest_date': datetime.date(2024, 11, 7),\n",
       "    'root_symbol': 'SPY',\n",
       "    'size': '100',\n",
       "    'status': <AssetStatus.ACTIVE: 'active'>,\n",
       "    'strike_price': 540.0,\n",
       "    'style': <ExerciseStyle.AMERICAN: 'american'>,\n",
       "    'symbol': 'SPY241112P00540000',\n",
       "    'tradable': True,\n",
       "    'type': <ContractType.PUT: 'put'>,\n",
       "    'underlying_asset_id': UUID('b28f4066-5c6d-479b-a2af-85dc1a8f16fb'),\n",
       "    'underlying_symbol': 'SPY'}"
      ]
     },
     "execution_count": 14,
     "metadata": {},
     "output_type": "execute_result"
    }
   ],
   "source": [
    "# get high open_interest contract\n",
    "open_interest = 0\n",
    "high_open_interest_contract = None\n",
    "for contract in res.option_contracts:\n",
    "    if (contract.open_interest is not None) and (int(contract.open_interest) > open_interest):\n",
    "        open_interest = int(contract.open_interest)\n",
    "        high_open_interest_contract = contract\n",
    "high_open_interest_contract"
   ]
  },
  {
   "cell_type": "code",
   "execution_count": 19,
   "metadata": {},
   "outputs": [
    {
     "data": {
      "text/plain": [
       "{   'asset_class': <AssetClass.US_OPTION: 'us_option'>,\n",
       "    'asset_id': UUID('50d52dc3-87ac-475b-87b0-1684827f8a1e'),\n",
       "    'canceled_at': None,\n",
       "    'client_order_id': '2baf0122-426e-4ec7-8189-6d9c54ed401b',\n",
       "    'created_at': datetime.datetime(2024, 9, 26, 15, 38, 9, 802510, tzinfo=TzInfo(UTC)),\n",
       "    'expired_at': None,\n",
       "    'extended_hours': False,\n",
       "    'failed_at': None,\n",
       "    'filled_at': None,\n",
       "    'filled_avg_price': None,\n",
       "    'filled_qty': '0',\n",
       "    'hwm': None,\n",
       "    'id': UUID('9e20b47d-1e56-4d99-92ca-2750e07d4b4e'),\n",
       "    'legs': None,\n",
       "    'limit_price': None,\n",
       "    'notional': None,\n",
       "    'order_class': <OrderClass.SIMPLE: 'simple'>,\n",
       "    'order_type': <OrderType.MARKET: 'market'>,\n",
       "    'qty': '10',\n",
       "    'replaced_at': None,\n",
       "    'replaced_by': None,\n",
       "    'replaces': None,\n",
       "    'side': <OrderSide.BUY: 'buy'>,\n",
       "    'status': <OrderStatus.PENDING_NEW: 'pending_new'>,\n",
       "    'stop_price': None,\n",
       "    'submitted_at': datetime.datetime(2024, 9, 26, 15, 38, 9, 800254, tzinfo=TzInfo(UTC)),\n",
       "    'symbol': 'SPY240927P00420000',\n",
       "    'time_in_force': <TimeInForce.DAY: 'day'>,\n",
       "    'trail_percent': None,\n",
       "    'trail_price': None,\n",
       "    'type': <OrderType.MARKET: 'market'>,\n",
       "    'updated_at': datetime.datetime(2024, 9, 26, 15, 38, 9, 802547, tzinfo=TzInfo(UTC))}"
      ]
     },
     "execution_count": 19,
     "metadata": {},
     "output_type": "execute_result"
    }
   ],
   "source": [
    "# place buy put option order\n",
    "# - we can place buy put option order same as buy stock/crypto order\n",
    "req = MarketOrderRequest(\n",
    "    symbol = high_open_interest_contract.symbol,\n",
    "    qty = 10,\n",
    "    side = OrderSide.BUY,\n",
    "    type = OrderType.MARKET,\n",
    "    time_in_force = TimeInForce.DAY,\n",
    ")\n",
    "res = trade_client.submit_order(req)\n",
    "res"
   ]
  },
  {
   "cell_type": "code",
   "execution_count": 15,
   "metadata": {},
   "outputs": [
    {
     "data": {
      "text/plain": [
       "[]"
      ]
     },
     "execution_count": 15,
     "metadata": {},
     "output_type": "execute_result"
    }
   ],
   "source": [
    "# get list of orders by specifying option contract symbol\n",
    "req = GetOrdersRequest(\n",
    "    status = QueryOrderStatus.ALL,\n",
    "    symbols = [high_open_interest_contract.symbol],\n",
    "    limit = 2,\n",
    ")\n",
    "orders = trade_client.get_orders(req)\n",
    "orders"
   ]
  },
  {
   "cell_type": "code",
   "execution_count": 16,
   "metadata": {},
   "outputs": [
    {
     "data": {
      "text/plain": [
       "[]"
      ]
     },
     "execution_count": 16,
     "metadata": {},
     "output_type": "execute_result"
    }
   ],
   "source": [
    "# below cells should be done after market open otherwise there is no position for the option contract\n",
    "\n",
    "# get positions filtered by option contract symbol\n",
    "# if you do this example outside of market hours, you will see empty list\n",
    "# because we have no position in this option contract\n",
    "# please wait market open and run this example again\n",
    "positions = trade_client.get_all_positions()\n",
    "[pos for pos in positions if pos.symbol == high_open_interest_contract.symbol]"
   ]
  },
  {
   "cell_type": "code",
   "execution_count": 20,
   "metadata": {},
   "outputs": [
    {
     "data": {
      "text/plain": [
       "{   'asset_class': <AssetClass.US_OPTION: 'us_option'>,\n",
       "    'asset_id': UUID('50d52dc3-87ac-475b-87b0-1684827f8a1e'),\n",
       "    'asset_marginable': True,\n",
       "    'avg_entry_price': '0.01',\n",
       "    'avg_entry_swap_rate': None,\n",
       "    'change_today': '0',\n",
       "    'cost_basis': '10',\n",
       "    'current_price': '0.01',\n",
       "    'exchange': <AssetExchange.EMPTY: ''>,\n",
       "    'lastday_price': '0.01',\n",
       "    'market_value': '10',\n",
       "    'qty': '10',\n",
       "    'qty_available': '10',\n",
       "    'side': <PositionSide.LONG: 'long'>,\n",
       "    'swap_rate': None,\n",
       "    'symbol': 'SPY240927P00420000',\n",
       "    'unrealized_intraday_pl': '0',\n",
       "    'unrealized_intraday_plpc': '0',\n",
       "    'unrealized_pl': '0',\n",
       "    'unrealized_plpc': '0',\n",
       "    'usd': None}"
      ]
     },
     "execution_count": 20,
     "metadata": {},
     "output_type": "execute_result"
    }
   ],
   "source": [
    "# get positions by symbol\n",
    "trade_client.get_open_position(symbol_or_asset_id=high_open_interest_contract.symbol)\n"
   ]
  },
  {
   "cell_type": "code",
   "execution_count": 21,
   "metadata": {},
   "outputs": [
    {
     "data": {
      "text/plain": [
       "{   'asset_class': <AssetClass.US_OPTION: 'us_option'>,\n",
       "    'asset_id': UUID('50d52dc3-87ac-475b-87b0-1684827f8a1e'),\n",
       "    'asset_marginable': True,\n",
       "    'avg_entry_price': '0.01',\n",
       "    'avg_entry_swap_rate': None,\n",
       "    'change_today': '0',\n",
       "    'cost_basis': '10',\n",
       "    'current_price': '0.01',\n",
       "    'exchange': <AssetExchange.EMPTY: ''>,\n",
       "    'lastday_price': '0.01',\n",
       "    'market_value': '10',\n",
       "    'qty': '10',\n",
       "    'qty_available': '10',\n",
       "    'side': <PositionSide.LONG: 'long'>,\n",
       "    'swap_rate': None,\n",
       "    'symbol': 'SPY240927P00420000',\n",
       "    'unrealized_intraday_pl': '0',\n",
       "    'unrealized_intraday_plpc': '0',\n",
       "    'unrealized_pl': '0',\n",
       "    'unrealized_plpc': '0',\n",
       "    'usd': None}"
      ]
     },
     "execution_count": 21,
     "metadata": {},
     "output_type": "execute_result"
    }
   ],
   "source": [
    "# get positions by contract id\n",
    "trade_client.get_open_position(symbol_or_asset_id = high_open_interest_contract.id)"
   ]
  },
  {
   "cell_type": "code",
   "execution_count": 22,
   "metadata": {},
   "outputs": [
    {
     "data": {
      "text/plain": [
       "{   'asset_class': <AssetClass.US_OPTION: 'us_option'>,\n",
       "    'asset_id': UUID('50d52dc3-87ac-475b-87b0-1684827f8a1e'),\n",
       "    'canceled_at': None,\n",
       "    'client_order_id': '80cd04ed-b3df-4d98-9ae5-72610096ca9b',\n",
       "    'created_at': datetime.datetime(2024, 9, 26, 15, 38, 16, 269122, tzinfo=TzInfo(UTC)),\n",
       "    'expired_at': None,\n",
       "    'extended_hours': False,\n",
       "    'failed_at': None,\n",
       "    'filled_at': None,\n",
       "    'filled_avg_price': None,\n",
       "    'filled_qty': '0',\n",
       "    'hwm': None,\n",
       "    'id': UUID('796b7535-4b43-4848-9052-a6578060ef44'),\n",
       "    'legs': None,\n",
       "    'limit_price': None,\n",
       "    'notional': None,\n",
       "    'order_class': <OrderClass.SIMPLE: 'simple'>,\n",
       "    'order_type': <OrderType.MARKET: 'market'>,\n",
       "    'qty': '10',\n",
       "    'replaced_at': None,\n",
       "    'replaced_by': None,\n",
       "    'replaces': None,\n",
       "    'side': <OrderSide.SELL: 'sell'>,\n",
       "    'status': <OrderStatus.PENDING_NEW: 'pending_new'>,\n",
       "    'stop_price': None,\n",
       "    'submitted_at': datetime.datetime(2024, 9, 26, 15, 38, 16, 267234, tzinfo=TzInfo(UTC)),\n",
       "    'symbol': 'SPY240927P00420000',\n",
       "    'time_in_force': <TimeInForce.DAY: 'day'>,\n",
       "    'trail_percent': None,\n",
       "    'trail_price': None,\n",
       "    'type': <OrderType.MARKET: 'market'>,\n",
       "    'updated_at': datetime.datetime(2024, 9, 26, 15, 38, 16, 269170, tzinfo=TzInfo(UTC))}"
      ]
     },
     "execution_count": 22,
     "metadata": {},
     "output_type": "execute_result"
    }
   ],
   "source": [
    "# close the option position (sell the option contract)\n",
    "trade_client.close_position(\n",
    "    symbol_or_asset_id = high_open_interest_contract.symbol,\n",
    "    close_options = ClosePositionRequest(qty = \"20\")\n",
    ")"
   ]
  },
  {
   "cell_type": "code",
   "execution_count": null,
   "metadata": {},
   "outputs": [],
   "source": [
    "# exercise the options position\n",
    "# - this method does not return anything\n",
    "trade_client.exercise_options_position(\n",
    "    symbol_or_contract_id = high_open_interest_contract.symbol\n",
    ")"
   ]
  },
  {
   "cell_type": "markdown",
   "metadata": {},
   "source": [
    "# Trade Update (Stream)"
   ]
  },
  {
   "cell_type": "markdown",
   "metadata": {},
   "source": [
    "With TradingStream client, you can get updates about trades\n",
    "\n",
    "fyi. you can open this notebook in another window and run below cell to check trade updates."
   ]
  },
  {
   "cell_type": "code",
   "execution_count": 23,
   "metadata": {},
   "outputs": [
    {
     "name": "stdout",
     "output_type": "stream",
     "text": [
      "keyboard interrupt, bye\n"
     ]
    },
    {
     "name": "stderr",
     "output_type": "stream",
     "text": [
      "data transfer failed\n",
      "Traceback (most recent call last):\n",
      "  File \"/Users/satoshiido/miniforge3/envs/python310/lib/python3.10/site-packages/websockets/legacy/protocol.py\", line 968, in transfer_data\n",
      "    message = await self.read_message()\n",
      "  File \"/Users/satoshiido/miniforge3/envs/python310/lib/python3.10/site-packages/websockets/legacy/protocol.py\", line 1038, in read_message\n",
      "    frame = await self.read_data_frame(max_size=self.max_size)\n",
      "  File \"/Users/satoshiido/miniforge3/envs/python310/lib/python3.10/site-packages/websockets/legacy/protocol.py\", line 1113, in read_data_frame\n",
      "    frame = await self.read_frame(max_size)\n",
      "  File \"/Users/satoshiido/miniforge3/envs/python310/lib/python3.10/site-packages/websockets/legacy/protocol.py\", line 1170, in read_frame\n",
      "    frame = await Frame.read(\n",
      "  File \"/Users/satoshiido/miniforge3/envs/python310/lib/python3.10/site-packages/websockets/legacy/framing.py\", line 69, in read\n",
      "    data = await reader(2)\n",
      "  File \"/Users/satoshiido/miniforge3/envs/python310/lib/python3.10/asyncio/streams.py\", line 708, in readexactly\n",
      "    await self._wait_for_data('readexactly')\n",
      "  File \"/Users/satoshiido/miniforge3/envs/python310/lib/python3.10/asyncio/streams.py\", line 501, in _wait_for_data\n",
      "    await self._waiter\n",
      "  File \"/Users/satoshiido/miniforge3/envs/python310/lib/python3.10/asyncio/futures.py\", line 285, in __await__\n",
      "    yield self  # This tells Task to wait for completion.\n",
      "  File \"/Users/satoshiido/miniforge3/envs/python310/lib/python3.10/asyncio/tasks.py\", line 304, in __wakeup\n",
      "    future.result()\n",
      "  File \"/Users/satoshiido/miniforge3/envs/python310/lib/python3.10/asyncio/futures.py\", line 201, in result\n",
      "    raise self._exception.with_traceback(self._exception_tb)\n",
      "  File \"/Users/satoshiido/miniforge3/envs/python310/lib/python3.10/asyncio/selector_events.py\", line 862, in _read_ready__data_received\n",
      "    data = self._sock.recv(self.max_size)\n",
      "OSError: [Errno 65] No route to host\n"
     ]
    }
   ],
   "source": [
    "# ensure the event loop can run in a Jupyter notebook\n",
    "nest_asyncio.apply()\n",
    "\n",
    "# subscribe trade updates\n",
    "trade_stream_client = TradingStream(api_key, secret_key, paper=paper, url_override = trade_api_wss)\n",
    "\n",
    "async def trade_updates_handler(data):\n",
    "    print(data)\n",
    "\n",
    "trade_stream_client.subscribe_trade_updates(trade_updates_handler)\n",
    "trade_stream_client.run()"
   ]
  },
  {
   "cell_type": "markdown",
   "metadata": {},
   "source": [
    "# Market Data (Historical)"
   ]
  },
  {
   "cell_type": "code",
   "execution_count": 15,
   "metadata": {},
   "outputs": [],
   "source": [
    "# setup option historical data client\n",
    "option_historical_data_client = OptionHistoricalDataClient(api_key, secret_key, url_override = data_api_url)"
   ]
  },
  {
   "cell_type": "code",
   "execution_count": 35,
   "metadata": {},
   "outputs": [
    {
     "data": {
      "text/html": [
       "<div>\n",
       "<style scoped>\n",
       "    .dataframe tbody tr th:only-of-type {\n",
       "        vertical-align: middle;\n",
       "    }\n",
       "\n",
       "    .dataframe tbody tr th {\n",
       "        vertical-align: top;\n",
       "    }\n",
       "\n",
       "    .dataframe thead th {\n",
       "        text-align: right;\n",
       "    }\n",
       "</style>\n",
       "<table border=\"1\" class=\"dataframe\">\n",
       "  <thead>\n",
       "    <tr style=\"text-align: right;\">\n",
       "      <th></th>\n",
       "      <th></th>\n",
       "      <th>open</th>\n",
       "      <th>high</th>\n",
       "      <th>low</th>\n",
       "      <th>close</th>\n",
       "      <th>volume</th>\n",
       "      <th>trade_count</th>\n",
       "      <th>vwap</th>\n",
       "    </tr>\n",
       "    <tr>\n",
       "      <th>symbol</th>\n",
       "      <th>timestamp</th>\n",
       "      <th></th>\n",
       "      <th></th>\n",
       "      <th></th>\n",
       "      <th></th>\n",
       "      <th></th>\n",
       "      <th></th>\n",
       "      <th></th>\n",
       "    </tr>\n",
       "  </thead>\n",
       "  <tbody>\n",
       "    <tr>\n",
       "      <th rowspan=\"10\" valign=\"top\">SPY241112P00540000</th>\n",
       "      <th>2024-11-07 16:00:00+00:00</th>\n",
       "      <td>0.07</td>\n",
       "      <td>0.07</td>\n",
       "      <td>0.07</td>\n",
       "      <td>0.07</td>\n",
       "      <td>50.0</td>\n",
       "      <td>3.0</td>\n",
       "      <td>0.070</td>\n",
       "    </tr>\n",
       "    <tr>\n",
       "      <th>2024-11-07 19:00:00+00:00</th>\n",
       "      <td>0.06</td>\n",
       "      <td>0.06</td>\n",
       "      <td>0.06</td>\n",
       "      <td>0.06</td>\n",
       "      <td>2.0</td>\n",
       "      <td>2.0</td>\n",
       "      <td>0.060</td>\n",
       "    </tr>\n",
       "    <tr>\n",
       "      <th>2024-11-07 20:00:00+00:00</th>\n",
       "      <td>0.06</td>\n",
       "      <td>0.06</td>\n",
       "      <td>0.06</td>\n",
       "      <td>0.06</td>\n",
       "      <td>1.0</td>\n",
       "      <td>1.0</td>\n",
       "      <td>0.060</td>\n",
       "    </tr>\n",
       "    <tr>\n",
       "      <th>2024-11-08 14:00:00+00:00</th>\n",
       "      <td>0.04</td>\n",
       "      <td>0.04</td>\n",
       "      <td>0.04</td>\n",
       "      <td>0.04</td>\n",
       "      <td>1.0</td>\n",
       "      <td>1.0</td>\n",
       "      <td>0.040</td>\n",
       "    </tr>\n",
       "    <tr>\n",
       "      <th>2024-11-08 15:00:00+00:00</th>\n",
       "      <td>0.03</td>\n",
       "      <td>0.03</td>\n",
       "      <td>0.03</td>\n",
       "      <td>0.03</td>\n",
       "      <td>2.0</td>\n",
       "      <td>2.0</td>\n",
       "      <td>0.030</td>\n",
       "    </tr>\n",
       "    <tr>\n",
       "      <th>2024-11-08 16:00:00+00:00</th>\n",
       "      <td>0.04</td>\n",
       "      <td>0.04</td>\n",
       "      <td>0.04</td>\n",
       "      <td>0.04</td>\n",
       "      <td>3.0</td>\n",
       "      <td>1.0</td>\n",
       "      <td>0.040</td>\n",
       "    </tr>\n",
       "    <tr>\n",
       "      <th>2024-11-08 17:00:00+00:00</th>\n",
       "      <td>0.03</td>\n",
       "      <td>0.03</td>\n",
       "      <td>0.03</td>\n",
       "      <td>0.03</td>\n",
       "      <td>10.0</td>\n",
       "      <td>3.0</td>\n",
       "      <td>0.030</td>\n",
       "    </tr>\n",
       "    <tr>\n",
       "      <th>2024-11-11 14:00:00+00:00</th>\n",
       "      <td>0.02</td>\n",
       "      <td>0.02</td>\n",
       "      <td>0.02</td>\n",
       "      <td>0.02</td>\n",
       "      <td>12501.0</td>\n",
       "      <td>2.0</td>\n",
       "      <td>0.020</td>\n",
       "    </tr>\n",
       "    <tr>\n",
       "      <th>2024-11-11 16:00:00+00:00</th>\n",
       "      <td>0.01</td>\n",
       "      <td>0.01</td>\n",
       "      <td>0.01</td>\n",
       "      <td>0.01</td>\n",
       "      <td>1.0</td>\n",
       "      <td>1.0</td>\n",
       "      <td>0.010</td>\n",
       "    </tr>\n",
       "    <tr>\n",
       "      <th>2024-11-11 18:00:00+00:00</th>\n",
       "      <td>0.01</td>\n",
       "      <td>0.02</td>\n",
       "      <td>0.01</td>\n",
       "      <td>0.02</td>\n",
       "      <td>2.0</td>\n",
       "      <td>2.0</td>\n",
       "      <td>0.015</td>\n",
       "    </tr>\n",
       "  </tbody>\n",
       "</table>\n",
       "</div>"
      ],
      "text/plain": [
       "                                              open  high   low  close  \\\n",
       "symbol             timestamp                                            \n",
       "SPY241112P00540000 2024-11-07 16:00:00+00:00  0.07  0.07  0.07   0.07   \n",
       "                   2024-11-07 19:00:00+00:00  0.06  0.06  0.06   0.06   \n",
       "                   2024-11-07 20:00:00+00:00  0.06  0.06  0.06   0.06   \n",
       "                   2024-11-08 14:00:00+00:00  0.04  0.04  0.04   0.04   \n",
       "                   2024-11-08 15:00:00+00:00  0.03  0.03  0.03   0.03   \n",
       "                   2024-11-08 16:00:00+00:00  0.04  0.04  0.04   0.04   \n",
       "                   2024-11-08 17:00:00+00:00  0.03  0.03  0.03   0.03   \n",
       "                   2024-11-11 14:00:00+00:00  0.02  0.02  0.02   0.02   \n",
       "                   2024-11-11 16:00:00+00:00  0.01  0.01  0.01   0.01   \n",
       "                   2024-11-11 18:00:00+00:00  0.01  0.02  0.01   0.02   \n",
       "\n",
       "                                               volume  trade_count   vwap  \n",
       "symbol             timestamp                                               \n",
       "SPY241112P00540000 2024-11-07 16:00:00+00:00     50.0          3.0  0.070  \n",
       "                   2024-11-07 19:00:00+00:00      2.0          2.0  0.060  \n",
       "                   2024-11-07 20:00:00+00:00      1.0          1.0  0.060  \n",
       "                   2024-11-08 14:00:00+00:00      1.0          1.0  0.040  \n",
       "                   2024-11-08 15:00:00+00:00      2.0          2.0  0.030  \n",
       "                   2024-11-08 16:00:00+00:00      3.0          1.0  0.040  \n",
       "                   2024-11-08 17:00:00+00:00     10.0          3.0  0.030  \n",
       "                   2024-11-11 14:00:00+00:00  12501.0          2.0  0.020  \n",
       "                   2024-11-11 16:00:00+00:00      1.0          1.0  0.010  \n",
       "                   2024-11-11 18:00:00+00:00      2.0          2.0  0.015  "
      ]
     },
     "execution_count": 35,
     "metadata": {},
     "output_type": "execute_result"
    }
   ],
   "source": [
    "# get options historical bars by symbol\n",
    "req = OptionBarsRequest(\n",
    "    symbol_or_symbols = high_open_interest_contract.symbol,\n",
    "    timeframe = TimeFrame(amount = 1, unit = TimeFrameUnit.Hour),   # specify timeframe\n",
    "    start = now - timedelta(days = 5),                              # specify start datetime, default=the beginning of the current day.\n",
    "    # end_date=None,                                                # specify end datetime, default=now\n",
    "    limit = 10,                                                      # specify limit\n",
    ")\n",
    "option_historical_data_client.get_option_bars(req).df"
   ]
  },
  {
   "cell_type": "code",
   "execution_count": 22,
   "metadata": {},
   "outputs": [
    {
     "data": {
      "text/html": [
       "<div>\n",
       "<style scoped>\n",
       "    .dataframe tbody tr th:only-of-type {\n",
       "        vertical-align: middle;\n",
       "    }\n",
       "\n",
       "    .dataframe tbody tr th {\n",
       "        vertical-align: top;\n",
       "    }\n",
       "\n",
       "    .dataframe thead th {\n",
       "        text-align: right;\n",
       "    }\n",
       "</style>\n",
       "<table border=\"1\" class=\"dataframe\">\n",
       "  <thead>\n",
       "    <tr style=\"text-align: right;\">\n",
       "      <th></th>\n",
       "      <th></th>\n",
       "      <th>exchange</th>\n",
       "      <th>price</th>\n",
       "      <th>size</th>\n",
       "      <th>conditions</th>\n",
       "    </tr>\n",
       "    <tr>\n",
       "      <th>symbol</th>\n",
       "      <th>timestamp</th>\n",
       "      <th></th>\n",
       "      <th></th>\n",
       "      <th></th>\n",
       "      <th></th>\n",
       "    </tr>\n",
       "  </thead>\n",
       "  <tbody>\n",
       "    <tr>\n",
       "      <th rowspan=\"2\" valign=\"top\">SPY241112P00540000</th>\n",
       "      <th>2024-11-07 16:06:49.478416+00:00</th>\n",
       "      <td>B</td>\n",
       "      <td>0.07</td>\n",
       "      <td>6.0</td>\n",
       "      <td>a</td>\n",
       "    </tr>\n",
       "    <tr>\n",
       "      <th>2024-11-07 16:06:49.478416+00:00</th>\n",
       "      <td>B</td>\n",
       "      <td>0.07</td>\n",
       "      <td>24.0</td>\n",
       "      <td>a</td>\n",
       "    </tr>\n",
       "  </tbody>\n",
       "</table>\n",
       "</div>"
      ],
      "text/plain": [
       "                                                    exchange  price  size  \\\n",
       "symbol             timestamp                                                \n",
       "SPY241112P00540000 2024-11-07 16:06:49.478416+00:00        B   0.07   6.0   \n",
       "                   2024-11-07 16:06:49.478416+00:00        B   0.07  24.0   \n",
       "\n",
       "                                                    conditions  \n",
       "symbol             timestamp                                    \n",
       "SPY241112P00540000 2024-11-07 16:06:49.478416+00:00          a  \n",
       "                   2024-11-07 16:06:49.478416+00:00          a  "
      ]
     },
     "execution_count": 22,
     "metadata": {},
     "output_type": "execute_result"
    }
   ],
   "source": [
    "# get options historical trades by symbol\n",
    "req = OptionTradesRequest(\n",
    "    symbol_or_symbols = high_open_interest_contract.symbol,\n",
    "    start = now - timedelta(days = 5),                              # specify start datetime, default=the beginning of the current day.\n",
    "    # end=None,                                                     # specify end datetime, default=now\n",
    "    limit = 2,                                                      # specify limit\n",
    ")\n",
    "option_historical_data_client.get_option_trades(req).df"
   ]
  },
  {
   "cell_type": "code",
   "execution_count": 18,
   "metadata": {},
   "outputs": [
    {
     "data": {
      "text/plain": [
       "{'A': 'AMEX - NYSE American',\n",
       " 'B': 'BOX - Boston Options Exchange',\n",
       " 'C': 'CBOE - Cboe Options Exchange',\n",
       " 'D': 'EMERALD - Miami International Stock Exchange Emerald Options',\n",
       " 'E': 'EDGX - Cboe EDGX Options Exchange',\n",
       " 'H': 'GEMX - Nasdaq GEMX',\n",
       " 'I': 'ISE - Nasdaq International Securities Exchange',\n",
       " 'J': 'MRX - Nasdaq MRX',\n",
       " 'M': 'MIAX - Miami International Stock Exchange',\n",
       " 'N': 'NYSE - NYSE Arca',\n",
       " 'O': 'OPRA - Options Price Reporting Authority',\n",
       " 'P': 'PEARL - Miami International Stock Exchange Pearl Options',\n",
       " 'Q': 'NASD - Nasdaq Options',\n",
       " 'S': 'SPHR - Miami International Stock Exchange Sapphire Options',\n",
       " 'T': 'BX - Nasdaq BX Options',\n",
       " 'U': 'MEMX - Members Options Exchange',\n",
       " 'W': 'C2 - Cboe C2 Options Exchange',\n",
       " 'X': 'PHLX - Nasdaq PHLX',\n",
       " 'Z': 'BATS - Cboe BZX Options Exchange'}"
      ]
     },
     "execution_count": 18,
     "metadata": {},
     "output_type": "execute_result"
    }
   ],
   "source": [
    "# get options exchange codes\n",
    "option_historical_data_client.get_option_exchange_codes()"
   ]
  },
  {
   "cell_type": "code",
   "execution_count": 19,
   "metadata": {},
   "outputs": [
    {
     "data": {
      "text/plain": [
       "{'SPY241112P00540000': {   'ask_exchange': 'N',\n",
       "     'ask_price': 0.01,\n",
       "     'ask_size': 1396.0,\n",
       "     'bid_exchange': '?',\n",
       "     'bid_price': 0.0,\n",
       "     'bid_size': 0.0,\n",
       "     'conditions': ' ',\n",
       "     'symbol': 'SPY241112P00540000',\n",
       "     'tape': None,\n",
       "     'timestamp': datetime.datetime(2024, 11, 11, 21, 13, 50, 518633, tzinfo=TzInfo(UTC))}}"
      ]
     },
     "execution_count": 19,
     "metadata": {},
     "output_type": "execute_result"
    }
   ],
   "source": [
    "# get option latest quote by symbol\n",
    "req = OptionLatestQuoteRequest(\n",
    "    symbol_or_symbols = [high_open_interest_contract.symbol],\n",
    ")\n",
    "option_historical_data_client.get_option_latest_quote(req)"
   ]
  },
  {
   "cell_type": "code",
   "execution_count": 23,
   "metadata": {},
   "outputs": [
    {
     "data": {
      "text/plain": [
       "{'SPY241112P00540000': {   'conditions': 'I',\n",
       "     'exchange': 'J',\n",
       "     'id': None,\n",
       "     'price': 0.01,\n",
       "     'size': 44.0,\n",
       "     'symbol': 'SPY241112P00540000',\n",
       "     'tape': None,\n",
       "     'timestamp': datetime.datetime(2024, 11, 11, 19, 42, 6, 809369, tzinfo=TzInfo(UTC))}}"
      ]
     },
     "execution_count": 23,
     "metadata": {},
     "output_type": "execute_result"
    }
   ],
   "source": [
    "# get option latest trade by symbol\n",
    "req = OptionLatestTradeRequest(\n",
    "    symbol_or_symbols = [high_open_interest_contract.symbol],\n",
    ")\n",
    "option_historical_data_client.get_option_latest_trade(req)"
   ]
  },
  {
   "cell_type": "code",
   "execution_count": 24,
   "metadata": {},
   "outputs": [
    {
     "data": {
      "text/plain": [
       "{'SPY241112P00540000': {   'greeks': None,\n",
       "     'implied_volatility': None,\n",
       "     'latest_quote': {   'ask_exchange': 'N',\n",
       "                         'ask_price': 0.01,\n",
       "                         'ask_size': 1396.0,\n",
       "                         'bid_exchange': '?',\n",
       "                         'bid_price': 0.0,\n",
       "                         'bid_size': 0.0,\n",
       "                         'conditions': ' ',\n",
       "                         'symbol': 'SPY241112P00540000',\n",
       "                         'tape': None,\n",
       "                         'timestamp': datetime.datetime(2024, 11, 11, 21, 13, 50, 518633, tzinfo=TzInfo(UTC))},\n",
       "     'latest_trade': {   'conditions': 'I',\n",
       "                         'exchange': 'J',\n",
       "                         'id': None,\n",
       "                         'price': 0.01,\n",
       "                         'size': 44.0,\n",
       "                         'symbol': 'SPY241112P00540000',\n",
       "                         'tape': None,\n",
       "                         'timestamp': datetime.datetime(2024, 11, 11, 19, 42, 6, 809369, tzinfo=TzInfo(UTC))},\n",
       "     'symbol': 'SPY241112P00540000'}}"
      ]
     },
     "execution_count": 24,
     "metadata": {},
     "output_type": "execute_result"
    }
   ],
   "source": [
    "# get option snapshot by symbol\n",
    "req = OptionSnapshotRequest(\n",
    "    symbol_or_symbols = [high_open_interest_contract.symbol],\n",
    ")\n",
    "option_historical_data_client.get_option_snapshot(req)"
   ]
  },
  {
   "cell_type": "code",
   "execution_count": 31,
   "metadata": {},
   "outputs": [
    {
     "ename": "KeyboardInterrupt",
     "evalue": "",
     "output_type": "error",
     "traceback": [
      "\u001b[0;31m---------------------------------------------------------------------------\u001b[0m",
      "\u001b[0;31mKeyboardInterrupt\u001b[0m                         Traceback (most recent call last)",
      "Cell \u001b[0;32mIn[31], line 5\u001b[0m\n\u001b[1;32m      1\u001b[0m \u001b[38;5;66;03m# get option chain by underlying_symbol\u001b[39;00m\n\u001b[1;32m      2\u001b[0m req \u001b[38;5;241m=\u001b[39m OptionChainRequest(\n\u001b[1;32m      3\u001b[0m     underlying_symbol \u001b[38;5;241m=\u001b[39m high_open_interest_contract\u001b[38;5;241m.\u001b[39munderlying_symbol,\n\u001b[1;32m      4\u001b[0m )\n\u001b[0;32m----> 5\u001b[0m \u001b[43moption_historical_data_client\u001b[49m\u001b[38;5;241;43m.\u001b[39;49m\u001b[43mget_option_chain\u001b[49m\u001b[43m(\u001b[49m\u001b[43mreq\u001b[49m\u001b[43m)\u001b[49m\n",
      "File \u001b[0;32m~/miniforge3/envs/python310/lib/python3.10/site-packages/alpaca/data/historical/option.py:251\u001b[0m, in \u001b[0;36mOptionHistoricalDataClient.get_option_chain\u001b[0;34m(self, request_params)\u001b[0m\n\u001b[1;32m    239\u001b[0m \u001b[38;5;250m\u001b[39m\u001b[38;5;124;03m\"\"\"The option chain endpoint for underlying symbol provides the latest trade, latest quote,\u001b[39;00m\n\u001b[1;32m    240\u001b[0m \u001b[38;5;124;03mimplied volatility, and greeks for each contract symbol of the underlying symbol.\u001b[39;00m\n\u001b[1;32m    241\u001b[0m \n\u001b[0;32m   (...)\u001b[0m\n\u001b[1;32m    246\u001b[0m \u001b[38;5;124;03m    Union[Dict[str, OptionsSnapshot], RawData]: The snapshot data either in raw or wrapped form\u001b[39;00m\n\u001b[1;32m    247\u001b[0m \u001b[38;5;124;03m\"\"\"\u001b[39;00m\n\u001b[1;32m    249\u001b[0m params \u001b[38;5;241m=\u001b[39m request_params\u001b[38;5;241m.\u001b[39mto_request_fields()\n\u001b[0;32m--> 251\u001b[0m raw_snapshots \u001b[38;5;241m=\u001b[39m \u001b[38;5;28;43mself\u001b[39;49m\u001b[38;5;241;43m.\u001b[39;49m\u001b[43m_data_get\u001b[49m\u001b[43m(\u001b[49m\n\u001b[1;32m    252\u001b[0m \u001b[43m    \u001b[49m\u001b[43mendpoint_asset_class\u001b[49m\u001b[38;5;241;43m=\u001b[39;49m\u001b[38;5;124;43m\"\u001b[39;49m\u001b[38;5;124;43moptions\u001b[39;49m\u001b[38;5;124;43m\"\u001b[39;49m\u001b[43m,\u001b[49m\n\u001b[1;32m    253\u001b[0m \u001b[43m    \u001b[49m\u001b[43mendpoint_data_type\u001b[49m\u001b[38;5;241;43m=\u001b[39;49m\u001b[38;5;124;43m\"\u001b[39;49m\u001b[38;5;124;43msnapshot\u001b[39;49m\u001b[38;5;124;43m\"\u001b[39;49m\u001b[43m,\u001b[49m\n\u001b[1;32m    254\u001b[0m \u001b[43m    \u001b[49m\u001b[43mapi_version\u001b[49m\u001b[38;5;241;43m=\u001b[39;49m\u001b[38;5;28;43mself\u001b[39;49m\u001b[38;5;241;43m.\u001b[39;49m\u001b[43m_api_version\u001b[49m\u001b[43m,\u001b[49m\n\u001b[1;32m    255\u001b[0m \u001b[43m    \u001b[49m\u001b[43mextension\u001b[49m\u001b[38;5;241;43m=\u001b[39;49m\u001b[43mDataExtensionType\u001b[49m\u001b[38;5;241;43m.\u001b[39;49m\u001b[43mSNAPSHOT\u001b[49m\u001b[43m,\u001b[49m\n\u001b[1;32m    256\u001b[0m \u001b[43m    \u001b[49m\u001b[38;5;241;43m*\u001b[39;49m\u001b[38;5;241;43m*\u001b[39;49m\u001b[43mparams\u001b[49m\u001b[43m,\u001b[49m\n\u001b[1;32m    257\u001b[0m \u001b[43m\u001b[49m\u001b[43m)\u001b[49m\n\u001b[1;32m    259\u001b[0m \u001b[38;5;28;01mif\u001b[39;00m \u001b[38;5;28mself\u001b[39m\u001b[38;5;241m.\u001b[39m_use_raw_data:\n\u001b[1;32m    260\u001b[0m     \u001b[38;5;28;01mreturn\u001b[39;00m raw_snapshots\n",
      "File \u001b[0;32m~/miniforge3/envs/python310/lib/python3.10/site-packages/alpaca/data/historical/option.py:344\u001b[0m, in \u001b[0;36mOptionHistoricalDataClient._data_get\u001b[0;34m(self, endpoint_asset_class, endpoint_data_type, api_version, symbol_or_symbols, limit, page_limit, extension, underlying_symbol, **kwargs)\u001b[0m\n\u001b[1;32m    341\u001b[0m params[\u001b[38;5;124m\"\u001b[39m\u001b[38;5;124mlimit\u001b[39m\u001b[38;5;124m\"\u001b[39m] \u001b[38;5;241m=\u001b[39m actual_limit\n\u001b[1;32m    342\u001b[0m params[\u001b[38;5;124m\"\u001b[39m\u001b[38;5;124mpage_token\u001b[39m\u001b[38;5;124m\"\u001b[39m] \u001b[38;5;241m=\u001b[39m page_token\n\u001b[0;32m--> 344\u001b[0m response \u001b[38;5;241m=\u001b[39m \u001b[38;5;28;43mself\u001b[39;49m\u001b[38;5;241;43m.\u001b[39;49m\u001b[43mget\u001b[49m\u001b[43m(\u001b[49m\u001b[43mpath\u001b[49m\u001b[38;5;241;43m=\u001b[39;49m\u001b[43mpath\u001b[49m\u001b[43m,\u001b[49m\u001b[43m \u001b[49m\u001b[43mdata\u001b[49m\u001b[38;5;241;43m=\u001b[39;49m\u001b[43mparams\u001b[49m\u001b[43m,\u001b[49m\u001b[43m \u001b[49m\u001b[43mapi_version\u001b[49m\u001b[38;5;241;43m=\u001b[39;49m\u001b[43mapi_version\u001b[49m\u001b[43m)\u001b[49m\n\u001b[1;32m    346\u001b[0m \u001b[38;5;66;03m# TODO: Merge parsing if possible\u001b[39;00m\n\u001b[1;32m    347\u001b[0m \u001b[38;5;28;01mif\u001b[39;00m extension \u001b[38;5;241m==\u001b[39m DataExtensionType\u001b[38;5;241m.\u001b[39mSNAPSHOT:\n",
      "File \u001b[0;32m~/miniforge3/envs/python310/lib/python3.10/site-packages/alpaca/common/rest.py:221\u001b[0m, in \u001b[0;36mRESTClient.get\u001b[0;34m(self, path, data, **kwargs)\u001b[0m\n\u001b[1;32m    210\u001b[0m \u001b[38;5;28;01mdef\u001b[39;00m \u001b[38;5;21mget\u001b[39m(\u001b[38;5;28mself\u001b[39m, path: \u001b[38;5;28mstr\u001b[39m, data: Union[\u001b[38;5;28mdict\u001b[39m, \u001b[38;5;28mstr\u001b[39m] \u001b[38;5;241m=\u001b[39m \u001b[38;5;28;01mNone\u001b[39;00m, \u001b[38;5;241m*\u001b[39m\u001b[38;5;241m*\u001b[39mkwargs) \u001b[38;5;241m-\u001b[39m\u001b[38;5;241m>\u001b[39m HTTPResult:\n\u001b[1;32m    211\u001b[0m \u001b[38;5;250m    \u001b[39m\u001b[38;5;124;03m\"\"\"Performs a single GET request\u001b[39;00m\n\u001b[1;32m    212\u001b[0m \n\u001b[1;32m    213\u001b[0m \u001b[38;5;124;03m    Args:\u001b[39;00m\n\u001b[0;32m   (...)\u001b[0m\n\u001b[1;32m    219\u001b[0m \u001b[38;5;124;03m        dict: The response\u001b[39;00m\n\u001b[1;32m    220\u001b[0m \u001b[38;5;124;03m    \"\"\"\u001b[39;00m\n\u001b[0;32m--> 221\u001b[0m     \u001b[38;5;28;01mreturn\u001b[39;00m \u001b[38;5;28;43mself\u001b[39;49m\u001b[38;5;241;43m.\u001b[39;49m\u001b[43m_request\u001b[49m\u001b[43m(\u001b[49m\u001b[38;5;124;43m\"\u001b[39;49m\u001b[38;5;124;43mGET\u001b[39;49m\u001b[38;5;124;43m\"\u001b[39;49m\u001b[43m,\u001b[49m\u001b[43m \u001b[49m\u001b[43mpath\u001b[49m\u001b[43m,\u001b[49m\u001b[43m \u001b[49m\u001b[43mdata\u001b[49m\u001b[43m,\u001b[49m\u001b[43m \u001b[49m\u001b[38;5;241;43m*\u001b[39;49m\u001b[38;5;241;43m*\u001b[39;49m\u001b[43mkwargs\u001b[49m\u001b[43m)\u001b[49m\n",
      "File \u001b[0;32m~/miniforge3/envs/python310/lib/python3.10/site-packages/alpaca/common/rest.py:129\u001b[0m, in \u001b[0;36mRESTClient._request\u001b[0;34m(self, method, path, data, base_url, api_version)\u001b[0m\n\u001b[1;32m    127\u001b[0m \u001b[38;5;28;01mwhile\u001b[39;00m retry \u001b[38;5;241m>\u001b[39m\u001b[38;5;241m=\u001b[39m \u001b[38;5;241m0\u001b[39m:\n\u001b[1;32m    128\u001b[0m     \u001b[38;5;28;01mtry\u001b[39;00m:\n\u001b[0;32m--> 129\u001b[0m         \u001b[38;5;28;01mreturn\u001b[39;00m \u001b[38;5;28;43mself\u001b[39;49m\u001b[38;5;241;43m.\u001b[39;49m\u001b[43m_one_request\u001b[49m\u001b[43m(\u001b[49m\u001b[43mmethod\u001b[49m\u001b[43m,\u001b[49m\u001b[43m \u001b[49m\u001b[43murl\u001b[49m\u001b[43m,\u001b[49m\u001b[43m \u001b[49m\u001b[43mopts\u001b[49m\u001b[43m,\u001b[49m\u001b[43m \u001b[49m\u001b[43mretry\u001b[49m\u001b[43m)\u001b[49m\n\u001b[1;32m    130\u001b[0m     \u001b[38;5;28;01mexcept\u001b[39;00m RetryException:\n\u001b[1;32m    131\u001b[0m         time\u001b[38;5;241m.\u001b[39msleep(\u001b[38;5;28mself\u001b[39m\u001b[38;5;241m.\u001b[39m_retry_wait)\n",
      "File \u001b[0;32m~/miniforge3/envs/python310/lib/python3.10/site-packages/alpaca/common/rest.py:193\u001b[0m, in \u001b[0;36mRESTClient._one_request\u001b[0;34m(self, method, url, opts, retry)\u001b[0m\n\u001b[1;32m    174\u001b[0m \u001b[38;5;28;01mdef\u001b[39;00m \u001b[38;5;21m_one_request\u001b[39m(\u001b[38;5;28mself\u001b[39m, method: \u001b[38;5;28mstr\u001b[39m, url: \u001b[38;5;28mstr\u001b[39m, opts: \u001b[38;5;28mdict\u001b[39m, retry: \u001b[38;5;28mint\u001b[39m) \u001b[38;5;241m-\u001b[39m\u001b[38;5;241m>\u001b[39m \u001b[38;5;28mdict\u001b[39m:\n\u001b[1;32m    175\u001b[0m \u001b[38;5;250m    \u001b[39m\u001b[38;5;124;03m\"\"\"Perform one request, possibly raising RetryException in the case\u001b[39;00m\n\u001b[1;32m    176\u001b[0m \u001b[38;5;124;03m    the response is 429. Otherwise, if error text contain \"code\" string,\u001b[39;00m\n\u001b[1;32m    177\u001b[0m \u001b[38;5;124;03m    then it decodes to json object and returns APIError.\u001b[39;00m\n\u001b[0;32m   (...)\u001b[0m\n\u001b[1;32m    191\u001b[0m \u001b[38;5;124;03m        dict: The response data\u001b[39;00m\n\u001b[1;32m    192\u001b[0m \u001b[38;5;124;03m    \"\"\"\u001b[39;00m\n\u001b[0;32m--> 193\u001b[0m     response \u001b[38;5;241m=\u001b[39m \u001b[38;5;28;43mself\u001b[39;49m\u001b[38;5;241;43m.\u001b[39;49m\u001b[43m_session\u001b[49m\u001b[38;5;241;43m.\u001b[39;49m\u001b[43mrequest\u001b[49m\u001b[43m(\u001b[49m\u001b[43mmethod\u001b[49m\u001b[43m,\u001b[49m\u001b[43m \u001b[49m\u001b[43murl\u001b[49m\u001b[43m,\u001b[49m\u001b[43m \u001b[49m\u001b[38;5;241;43m*\u001b[39;49m\u001b[38;5;241;43m*\u001b[39;49m\u001b[43mopts\u001b[49m\u001b[43m)\u001b[49m\n\u001b[1;32m    195\u001b[0m     \u001b[38;5;28;01mtry\u001b[39;00m:\n\u001b[1;32m    196\u001b[0m         response\u001b[38;5;241m.\u001b[39mraise_for_status()\n",
      "File \u001b[0;32m~/miniforge3/envs/python310/lib/python3.10/site-packages/requests/sessions.py:589\u001b[0m, in \u001b[0;36mSession.request\u001b[0;34m(self, method, url, params, data, headers, cookies, files, auth, timeout, allow_redirects, proxies, hooks, stream, verify, cert, json)\u001b[0m\n\u001b[1;32m    584\u001b[0m send_kwargs \u001b[38;5;241m=\u001b[39m {\n\u001b[1;32m    585\u001b[0m     \u001b[38;5;124m\"\u001b[39m\u001b[38;5;124mtimeout\u001b[39m\u001b[38;5;124m\"\u001b[39m: timeout,\n\u001b[1;32m    586\u001b[0m     \u001b[38;5;124m\"\u001b[39m\u001b[38;5;124mallow_redirects\u001b[39m\u001b[38;5;124m\"\u001b[39m: allow_redirects,\n\u001b[1;32m    587\u001b[0m }\n\u001b[1;32m    588\u001b[0m send_kwargs\u001b[38;5;241m.\u001b[39mupdate(settings)\n\u001b[0;32m--> 589\u001b[0m resp \u001b[38;5;241m=\u001b[39m \u001b[38;5;28;43mself\u001b[39;49m\u001b[38;5;241;43m.\u001b[39;49m\u001b[43msend\u001b[49m\u001b[43m(\u001b[49m\u001b[43mprep\u001b[49m\u001b[43m,\u001b[49m\u001b[43m \u001b[49m\u001b[38;5;241;43m*\u001b[39;49m\u001b[38;5;241;43m*\u001b[39;49m\u001b[43msend_kwargs\u001b[49m\u001b[43m)\u001b[49m\n\u001b[1;32m    591\u001b[0m \u001b[38;5;28;01mreturn\u001b[39;00m resp\n",
      "File \u001b[0;32m~/miniforge3/envs/python310/lib/python3.10/site-packages/requests/sessions.py:703\u001b[0m, in \u001b[0;36mSession.send\u001b[0;34m(self, request, **kwargs)\u001b[0m\n\u001b[1;32m    700\u001b[0m start \u001b[38;5;241m=\u001b[39m preferred_clock()\n\u001b[1;32m    702\u001b[0m \u001b[38;5;66;03m# Send the request\u001b[39;00m\n\u001b[0;32m--> 703\u001b[0m r \u001b[38;5;241m=\u001b[39m \u001b[43madapter\u001b[49m\u001b[38;5;241;43m.\u001b[39;49m\u001b[43msend\u001b[49m\u001b[43m(\u001b[49m\u001b[43mrequest\u001b[49m\u001b[43m,\u001b[49m\u001b[43m \u001b[49m\u001b[38;5;241;43m*\u001b[39;49m\u001b[38;5;241;43m*\u001b[39;49m\u001b[43mkwargs\u001b[49m\u001b[43m)\u001b[49m\n\u001b[1;32m    705\u001b[0m \u001b[38;5;66;03m# Total elapsed time of the request (approximately)\u001b[39;00m\n\u001b[1;32m    706\u001b[0m elapsed \u001b[38;5;241m=\u001b[39m preferred_clock() \u001b[38;5;241m-\u001b[39m start\n",
      "File \u001b[0;32m~/miniforge3/envs/python310/lib/python3.10/site-packages/requests/adapters.py:486\u001b[0m, in \u001b[0;36mHTTPAdapter.send\u001b[0;34m(self, request, stream, timeout, verify, cert, proxies)\u001b[0m\n\u001b[1;32m    483\u001b[0m     timeout \u001b[38;5;241m=\u001b[39m TimeoutSauce(connect\u001b[38;5;241m=\u001b[39mtimeout, read\u001b[38;5;241m=\u001b[39mtimeout)\n\u001b[1;32m    485\u001b[0m \u001b[38;5;28;01mtry\u001b[39;00m:\n\u001b[0;32m--> 486\u001b[0m     resp \u001b[38;5;241m=\u001b[39m \u001b[43mconn\u001b[49m\u001b[38;5;241;43m.\u001b[39;49m\u001b[43murlopen\u001b[49m\u001b[43m(\u001b[49m\n\u001b[1;32m    487\u001b[0m \u001b[43m        \u001b[49m\u001b[43mmethod\u001b[49m\u001b[38;5;241;43m=\u001b[39;49m\u001b[43mrequest\u001b[49m\u001b[38;5;241;43m.\u001b[39;49m\u001b[43mmethod\u001b[49m\u001b[43m,\u001b[49m\n\u001b[1;32m    488\u001b[0m \u001b[43m        \u001b[49m\u001b[43murl\u001b[49m\u001b[38;5;241;43m=\u001b[39;49m\u001b[43murl\u001b[49m\u001b[43m,\u001b[49m\n\u001b[1;32m    489\u001b[0m \u001b[43m        \u001b[49m\u001b[43mbody\u001b[49m\u001b[38;5;241;43m=\u001b[39;49m\u001b[43mrequest\u001b[49m\u001b[38;5;241;43m.\u001b[39;49m\u001b[43mbody\u001b[49m\u001b[43m,\u001b[49m\n\u001b[1;32m    490\u001b[0m \u001b[43m        \u001b[49m\u001b[43mheaders\u001b[49m\u001b[38;5;241;43m=\u001b[39;49m\u001b[43mrequest\u001b[49m\u001b[38;5;241;43m.\u001b[39;49m\u001b[43mheaders\u001b[49m\u001b[43m,\u001b[49m\n\u001b[1;32m    491\u001b[0m \u001b[43m        \u001b[49m\u001b[43mredirect\u001b[49m\u001b[38;5;241;43m=\u001b[39;49m\u001b[38;5;28;43;01mFalse\u001b[39;49;00m\u001b[43m,\u001b[49m\n\u001b[1;32m    492\u001b[0m \u001b[43m        \u001b[49m\u001b[43massert_same_host\u001b[49m\u001b[38;5;241;43m=\u001b[39;49m\u001b[38;5;28;43;01mFalse\u001b[39;49;00m\u001b[43m,\u001b[49m\n\u001b[1;32m    493\u001b[0m \u001b[43m        \u001b[49m\u001b[43mpreload_content\u001b[49m\u001b[38;5;241;43m=\u001b[39;49m\u001b[38;5;28;43;01mFalse\u001b[39;49;00m\u001b[43m,\u001b[49m\n\u001b[1;32m    494\u001b[0m \u001b[43m        \u001b[49m\u001b[43mdecode_content\u001b[49m\u001b[38;5;241;43m=\u001b[39;49m\u001b[38;5;28;43;01mFalse\u001b[39;49;00m\u001b[43m,\u001b[49m\n\u001b[1;32m    495\u001b[0m \u001b[43m        \u001b[49m\u001b[43mretries\u001b[49m\u001b[38;5;241;43m=\u001b[39;49m\u001b[38;5;28;43mself\u001b[39;49m\u001b[38;5;241;43m.\u001b[39;49m\u001b[43mmax_retries\u001b[49m\u001b[43m,\u001b[49m\n\u001b[1;32m    496\u001b[0m \u001b[43m        \u001b[49m\u001b[43mtimeout\u001b[49m\u001b[38;5;241;43m=\u001b[39;49m\u001b[43mtimeout\u001b[49m\u001b[43m,\u001b[49m\n\u001b[1;32m    497\u001b[0m \u001b[43m        \u001b[49m\u001b[43mchunked\u001b[49m\u001b[38;5;241;43m=\u001b[39;49m\u001b[43mchunked\u001b[49m\u001b[43m,\u001b[49m\n\u001b[1;32m    498\u001b[0m \u001b[43m    \u001b[49m\u001b[43m)\u001b[49m\n\u001b[1;32m    500\u001b[0m \u001b[38;5;28;01mexcept\u001b[39;00m (ProtocolError, \u001b[38;5;167;01mOSError\u001b[39;00m) \u001b[38;5;28;01mas\u001b[39;00m err:\n\u001b[1;32m    501\u001b[0m     \u001b[38;5;28;01mraise\u001b[39;00m \u001b[38;5;167;01mConnectionError\u001b[39;00m(err, request\u001b[38;5;241m=\u001b[39mrequest)\n",
      "File \u001b[0;32m~/miniforge3/envs/python310/lib/python3.10/site-packages/urllib3/connectionpool.py:715\u001b[0m, in \u001b[0;36mHTTPConnectionPool.urlopen\u001b[0;34m(self, method, url, body, headers, retries, redirect, assert_same_host, timeout, pool_timeout, release_conn, chunked, body_pos, **response_kw)\u001b[0m\n\u001b[1;32m    712\u001b[0m     \u001b[38;5;28mself\u001b[39m\u001b[38;5;241m.\u001b[39m_prepare_proxy(conn)\n\u001b[1;32m    714\u001b[0m \u001b[38;5;66;03m# Make the request on the httplib connection object.\u001b[39;00m\n\u001b[0;32m--> 715\u001b[0m httplib_response \u001b[38;5;241m=\u001b[39m \u001b[38;5;28;43mself\u001b[39;49m\u001b[38;5;241;43m.\u001b[39;49m\u001b[43m_make_request\u001b[49m\u001b[43m(\u001b[49m\n\u001b[1;32m    716\u001b[0m \u001b[43m    \u001b[49m\u001b[43mconn\u001b[49m\u001b[43m,\u001b[49m\n\u001b[1;32m    717\u001b[0m \u001b[43m    \u001b[49m\u001b[43mmethod\u001b[49m\u001b[43m,\u001b[49m\n\u001b[1;32m    718\u001b[0m \u001b[43m    \u001b[49m\u001b[43murl\u001b[49m\u001b[43m,\u001b[49m\n\u001b[1;32m    719\u001b[0m \u001b[43m    \u001b[49m\u001b[43mtimeout\u001b[49m\u001b[38;5;241;43m=\u001b[39;49m\u001b[43mtimeout_obj\u001b[49m\u001b[43m,\u001b[49m\n\u001b[1;32m    720\u001b[0m \u001b[43m    \u001b[49m\u001b[43mbody\u001b[49m\u001b[38;5;241;43m=\u001b[39;49m\u001b[43mbody\u001b[49m\u001b[43m,\u001b[49m\n\u001b[1;32m    721\u001b[0m \u001b[43m    \u001b[49m\u001b[43mheaders\u001b[49m\u001b[38;5;241;43m=\u001b[39;49m\u001b[43mheaders\u001b[49m\u001b[43m,\u001b[49m\n\u001b[1;32m    722\u001b[0m \u001b[43m    \u001b[49m\u001b[43mchunked\u001b[49m\u001b[38;5;241;43m=\u001b[39;49m\u001b[43mchunked\u001b[49m\u001b[43m,\u001b[49m\n\u001b[1;32m    723\u001b[0m \u001b[43m\u001b[49m\u001b[43m)\u001b[49m\n\u001b[1;32m    725\u001b[0m \u001b[38;5;66;03m# If we're going to release the connection in ``finally:``, then\u001b[39;00m\n\u001b[1;32m    726\u001b[0m \u001b[38;5;66;03m# the response doesn't need to know about the connection. Otherwise\u001b[39;00m\n\u001b[1;32m    727\u001b[0m \u001b[38;5;66;03m# it will also try to release it and we'll have a double-release\u001b[39;00m\n\u001b[1;32m    728\u001b[0m \u001b[38;5;66;03m# mess.\u001b[39;00m\n\u001b[1;32m    729\u001b[0m response_conn \u001b[38;5;241m=\u001b[39m conn \u001b[38;5;28;01mif\u001b[39;00m \u001b[38;5;129;01mnot\u001b[39;00m release_conn \u001b[38;5;28;01melse\u001b[39;00m \u001b[38;5;28;01mNone\u001b[39;00m\n",
      "File \u001b[0;32m~/miniforge3/envs/python310/lib/python3.10/site-packages/urllib3/connectionpool.py:467\u001b[0m, in \u001b[0;36mHTTPConnectionPool._make_request\u001b[0;34m(self, conn, method, url, timeout, chunked, **httplib_request_kw)\u001b[0m\n\u001b[1;32m    462\u001b[0m             httplib_response \u001b[38;5;241m=\u001b[39m conn\u001b[38;5;241m.\u001b[39mgetresponse()\n\u001b[1;32m    463\u001b[0m         \u001b[38;5;28;01mexcept\u001b[39;00m \u001b[38;5;167;01mBaseException\u001b[39;00m \u001b[38;5;28;01mas\u001b[39;00m e:\n\u001b[1;32m    464\u001b[0m             \u001b[38;5;66;03m# Remove the TypeError from the exception chain in\u001b[39;00m\n\u001b[1;32m    465\u001b[0m             \u001b[38;5;66;03m# Python 3 (including for exceptions like SystemExit).\u001b[39;00m\n\u001b[1;32m    466\u001b[0m             \u001b[38;5;66;03m# Otherwise it looks like a bug in the code.\u001b[39;00m\n\u001b[0;32m--> 467\u001b[0m             \u001b[43msix\u001b[49m\u001b[38;5;241;43m.\u001b[39;49m\u001b[43mraise_from\u001b[49m\u001b[43m(\u001b[49m\u001b[43me\u001b[49m\u001b[43m,\u001b[49m\u001b[43m \u001b[49m\u001b[38;5;28;43;01mNone\u001b[39;49;00m\u001b[43m)\u001b[49m\n\u001b[1;32m    468\u001b[0m \u001b[38;5;28;01mexcept\u001b[39;00m (SocketTimeout, BaseSSLError, SocketError) \u001b[38;5;28;01mas\u001b[39;00m e:\n\u001b[1;32m    469\u001b[0m     \u001b[38;5;28mself\u001b[39m\u001b[38;5;241m.\u001b[39m_raise_timeout(err\u001b[38;5;241m=\u001b[39me, url\u001b[38;5;241m=\u001b[39murl, timeout_value\u001b[38;5;241m=\u001b[39mread_timeout)\n",
      "File \u001b[0;32m<string>:3\u001b[0m, in \u001b[0;36mraise_from\u001b[0;34m(value, from_value)\u001b[0m\n",
      "File \u001b[0;32m~/miniforge3/envs/python310/lib/python3.10/site-packages/urllib3/connectionpool.py:462\u001b[0m, in \u001b[0;36mHTTPConnectionPool._make_request\u001b[0;34m(self, conn, method, url, timeout, chunked, **httplib_request_kw)\u001b[0m\n\u001b[1;32m    459\u001b[0m \u001b[38;5;28;01mexcept\u001b[39;00m \u001b[38;5;167;01mTypeError\u001b[39;00m:\n\u001b[1;32m    460\u001b[0m     \u001b[38;5;66;03m# Python 3\u001b[39;00m\n\u001b[1;32m    461\u001b[0m     \u001b[38;5;28;01mtry\u001b[39;00m:\n\u001b[0;32m--> 462\u001b[0m         httplib_response \u001b[38;5;241m=\u001b[39m \u001b[43mconn\u001b[49m\u001b[38;5;241;43m.\u001b[39;49m\u001b[43mgetresponse\u001b[49m\u001b[43m(\u001b[49m\u001b[43m)\u001b[49m\n\u001b[1;32m    463\u001b[0m     \u001b[38;5;28;01mexcept\u001b[39;00m \u001b[38;5;167;01mBaseException\u001b[39;00m \u001b[38;5;28;01mas\u001b[39;00m e:\n\u001b[1;32m    464\u001b[0m         \u001b[38;5;66;03m# Remove the TypeError from the exception chain in\u001b[39;00m\n\u001b[1;32m    465\u001b[0m         \u001b[38;5;66;03m# Python 3 (including for exceptions like SystemExit).\u001b[39;00m\n\u001b[1;32m    466\u001b[0m         \u001b[38;5;66;03m# Otherwise it looks like a bug in the code.\u001b[39;00m\n\u001b[1;32m    467\u001b[0m         six\u001b[38;5;241m.\u001b[39mraise_from(e, \u001b[38;5;28;01mNone\u001b[39;00m)\n",
      "File \u001b[0;32m~/miniforge3/envs/python310/lib/python3.10/http/client.py:1375\u001b[0m, in \u001b[0;36mHTTPConnection.getresponse\u001b[0;34m(self)\u001b[0m\n\u001b[1;32m   1373\u001b[0m \u001b[38;5;28;01mtry\u001b[39;00m:\n\u001b[1;32m   1374\u001b[0m     \u001b[38;5;28;01mtry\u001b[39;00m:\n\u001b[0;32m-> 1375\u001b[0m         \u001b[43mresponse\u001b[49m\u001b[38;5;241;43m.\u001b[39;49m\u001b[43mbegin\u001b[49m\u001b[43m(\u001b[49m\u001b[43m)\u001b[49m\n\u001b[1;32m   1376\u001b[0m     \u001b[38;5;28;01mexcept\u001b[39;00m \u001b[38;5;167;01mConnectionError\u001b[39;00m:\n\u001b[1;32m   1377\u001b[0m         \u001b[38;5;28mself\u001b[39m\u001b[38;5;241m.\u001b[39mclose()\n",
      "File \u001b[0;32m~/miniforge3/envs/python310/lib/python3.10/http/client.py:318\u001b[0m, in \u001b[0;36mHTTPResponse.begin\u001b[0;34m(self)\u001b[0m\n\u001b[1;32m    316\u001b[0m \u001b[38;5;66;03m# read until we get a non-100 response\u001b[39;00m\n\u001b[1;32m    317\u001b[0m \u001b[38;5;28;01mwhile\u001b[39;00m \u001b[38;5;28;01mTrue\u001b[39;00m:\n\u001b[0;32m--> 318\u001b[0m     version, status, reason \u001b[38;5;241m=\u001b[39m \u001b[38;5;28;43mself\u001b[39;49m\u001b[38;5;241;43m.\u001b[39;49m\u001b[43m_read_status\u001b[49m\u001b[43m(\u001b[49m\u001b[43m)\u001b[49m\n\u001b[1;32m    319\u001b[0m     \u001b[38;5;28;01mif\u001b[39;00m status \u001b[38;5;241m!=\u001b[39m CONTINUE:\n\u001b[1;32m    320\u001b[0m         \u001b[38;5;28;01mbreak\u001b[39;00m\n",
      "File \u001b[0;32m~/miniforge3/envs/python310/lib/python3.10/http/client.py:279\u001b[0m, in \u001b[0;36mHTTPResponse._read_status\u001b[0;34m(self)\u001b[0m\n\u001b[1;32m    278\u001b[0m \u001b[38;5;28;01mdef\u001b[39;00m \u001b[38;5;21m_read_status\u001b[39m(\u001b[38;5;28mself\u001b[39m):\n\u001b[0;32m--> 279\u001b[0m     line \u001b[38;5;241m=\u001b[39m \u001b[38;5;28mstr\u001b[39m(\u001b[38;5;28;43mself\u001b[39;49m\u001b[38;5;241;43m.\u001b[39;49m\u001b[43mfp\u001b[49m\u001b[38;5;241;43m.\u001b[39;49m\u001b[43mreadline\u001b[49m\u001b[43m(\u001b[49m\u001b[43m_MAXLINE\u001b[49m\u001b[43m \u001b[49m\u001b[38;5;241;43m+\u001b[39;49m\u001b[43m \u001b[49m\u001b[38;5;241;43m1\u001b[39;49m\u001b[43m)\u001b[49m, \u001b[38;5;124m\"\u001b[39m\u001b[38;5;124miso-8859-1\u001b[39m\u001b[38;5;124m\"\u001b[39m)\n\u001b[1;32m    280\u001b[0m     \u001b[38;5;28;01mif\u001b[39;00m \u001b[38;5;28mlen\u001b[39m(line) \u001b[38;5;241m>\u001b[39m _MAXLINE:\n\u001b[1;32m    281\u001b[0m         \u001b[38;5;28;01mraise\u001b[39;00m LineTooLong(\u001b[38;5;124m\"\u001b[39m\u001b[38;5;124mstatus line\u001b[39m\u001b[38;5;124m\"\u001b[39m)\n",
      "File \u001b[0;32m~/miniforge3/envs/python310/lib/python3.10/socket.py:705\u001b[0m, in \u001b[0;36mSocketIO.readinto\u001b[0;34m(self, b)\u001b[0m\n\u001b[1;32m    703\u001b[0m \u001b[38;5;28;01mwhile\u001b[39;00m \u001b[38;5;28;01mTrue\u001b[39;00m:\n\u001b[1;32m    704\u001b[0m     \u001b[38;5;28;01mtry\u001b[39;00m:\n\u001b[0;32m--> 705\u001b[0m         \u001b[38;5;28;01mreturn\u001b[39;00m \u001b[38;5;28;43mself\u001b[39;49m\u001b[38;5;241;43m.\u001b[39;49m\u001b[43m_sock\u001b[49m\u001b[38;5;241;43m.\u001b[39;49m\u001b[43mrecv_into\u001b[49m\u001b[43m(\u001b[49m\u001b[43mb\u001b[49m\u001b[43m)\u001b[49m\n\u001b[1;32m    706\u001b[0m     \u001b[38;5;28;01mexcept\u001b[39;00m timeout:\n\u001b[1;32m    707\u001b[0m         \u001b[38;5;28mself\u001b[39m\u001b[38;5;241m.\u001b[39m_timeout_occurred \u001b[38;5;241m=\u001b[39m \u001b[38;5;28;01mTrue\u001b[39;00m\n",
      "File \u001b[0;32m~/miniforge3/envs/python310/lib/python3.10/ssl.py:1307\u001b[0m, in \u001b[0;36mSSLSocket.recv_into\u001b[0;34m(self, buffer, nbytes, flags)\u001b[0m\n\u001b[1;32m   1303\u001b[0m     \u001b[38;5;28;01mif\u001b[39;00m flags \u001b[38;5;241m!=\u001b[39m \u001b[38;5;241m0\u001b[39m:\n\u001b[1;32m   1304\u001b[0m         \u001b[38;5;28;01mraise\u001b[39;00m \u001b[38;5;167;01mValueError\u001b[39;00m(\n\u001b[1;32m   1305\u001b[0m           \u001b[38;5;124m\"\u001b[39m\u001b[38;5;124mnon-zero flags not allowed in calls to recv_into() on \u001b[39m\u001b[38;5;132;01m%s\u001b[39;00m\u001b[38;5;124m\"\u001b[39m \u001b[38;5;241m%\u001b[39m\n\u001b[1;32m   1306\u001b[0m           \u001b[38;5;28mself\u001b[39m\u001b[38;5;241m.\u001b[39m\u001b[38;5;18m__class__\u001b[39m)\n\u001b[0;32m-> 1307\u001b[0m     \u001b[38;5;28;01mreturn\u001b[39;00m \u001b[38;5;28;43mself\u001b[39;49m\u001b[38;5;241;43m.\u001b[39;49m\u001b[43mread\u001b[49m\u001b[43m(\u001b[49m\u001b[43mnbytes\u001b[49m\u001b[43m,\u001b[49m\u001b[43m \u001b[49m\u001b[43mbuffer\u001b[49m\u001b[43m)\u001b[49m\n\u001b[1;32m   1308\u001b[0m \u001b[38;5;28;01melse\u001b[39;00m:\n\u001b[1;32m   1309\u001b[0m     \u001b[38;5;28;01mreturn\u001b[39;00m \u001b[38;5;28msuper\u001b[39m()\u001b[38;5;241m.\u001b[39mrecv_into(buffer, nbytes, flags)\n",
      "File \u001b[0;32m~/miniforge3/envs/python310/lib/python3.10/ssl.py:1163\u001b[0m, in \u001b[0;36mSSLSocket.read\u001b[0;34m(self, len, buffer)\u001b[0m\n\u001b[1;32m   1161\u001b[0m \u001b[38;5;28;01mtry\u001b[39;00m:\n\u001b[1;32m   1162\u001b[0m     \u001b[38;5;28;01mif\u001b[39;00m buffer \u001b[38;5;129;01mis\u001b[39;00m \u001b[38;5;129;01mnot\u001b[39;00m \u001b[38;5;28;01mNone\u001b[39;00m:\n\u001b[0;32m-> 1163\u001b[0m         \u001b[38;5;28;01mreturn\u001b[39;00m \u001b[38;5;28;43mself\u001b[39;49m\u001b[38;5;241;43m.\u001b[39;49m\u001b[43m_sslobj\u001b[49m\u001b[38;5;241;43m.\u001b[39;49m\u001b[43mread\u001b[49m\u001b[43m(\u001b[49m\u001b[38;5;28;43mlen\u001b[39;49m\u001b[43m,\u001b[49m\u001b[43m \u001b[49m\u001b[43mbuffer\u001b[49m\u001b[43m)\u001b[49m\n\u001b[1;32m   1164\u001b[0m     \u001b[38;5;28;01melse\u001b[39;00m:\n\u001b[1;32m   1165\u001b[0m         \u001b[38;5;28;01mreturn\u001b[39;00m \u001b[38;5;28mself\u001b[39m\u001b[38;5;241m.\u001b[39m_sslobj\u001b[38;5;241m.\u001b[39mread(\u001b[38;5;28mlen\u001b[39m)\n",
      "\u001b[0;31mKeyboardInterrupt\u001b[0m: "
     ]
    }
   ],
   "source": [
    "# get option chain by underlying_symbol\n",
    "req = OptionChainRequest(\n",
    "    underlying_symbol = high_open_interest_contract.underlying_symbol,\n",
    ")\n",
    "option_historical_data_client.get_option_chain(req)"
   ]
  },
  {
   "cell_type": "markdown",
   "metadata": {},
   "source": [
    "# Market Data (Stream)"
   ]
  },
  {
   "cell_type": "code",
   "execution_count": null,
   "metadata": {},
   "outputs": [],
   "source": [
    "option_data_stream_client = OptionDataStream(api_key, secret_key, url_override = option_stream_data_wss)\n",
    "\n",
    "async def option_data_stream_handler(data):\n",
    "    print(data)\n",
    "\n",
    "symbols = [\n",
    "    high_open_interest_contract.symbol,\n",
    "]\n",
    "\n",
    "option_data_stream_client.subscribe_quotes(option_data_stream_handler, *symbols) \n",
    "option_data_stream_client.subscribe_trades(option_data_stream_handler, *symbols)\n",
    "\n",
    "option_data_stream_client.run()"
   ]
  }
 ],
 "metadata": {
  "kernelspec": {
   "display_name": "python310",
   "language": "python",
   "name": "python3"
  },
  "language_info": {
   "codemirror_mode": {
    "name": "ipython",
    "version": 3
   },
   "file_extension": ".py",
   "mimetype": "text/x-python",
   "name": "python",
   "nbconvert_exporter": "python",
   "pygments_lexer": "ipython3",
   "version": "3.10.13"
  }
 },
 "nbformat": 4,
 "nbformat_minor": 2
}
